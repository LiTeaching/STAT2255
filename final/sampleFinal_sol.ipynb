{
 "cells": [
  {
   "cell_type": "markdown",
   "metadata": {},
   "source": [
    "STAT 2255: Sample Final Exam\n",
    "=====================\n",
    "\n"
   ]
  },
  {
   "cell_type": "markdown",
   "metadata": {},
   "source": [
    "### Submission requirement (5 pts):\n",
    "\n"
   ]
  },
  {
   "cell_type": "markdown",
   "metadata": {},
   "source": [
    "1.  Solve the exam problems using the \"stat2255\" virtual environment.\n",
    "2.  You should submit both the jupyter notebook file and the pdf file.\n",
    "3.  Name your files as \"LastName-FirstName.ipynb\" and \"LastName-FirstName.pdf\",\n",
    "    e.g.,\n",
    "    -   \"Wang-Ben.ipynb\"\n",
    "    -   \"Wang-Ben.pdf\"\n",
    "\n"
   ]
  },
  {
   "cell_type": "markdown",
   "metadata": {},
   "source": [
    "## Problem 1 (20 pts)\n",
    "\n"
   ]
  },
  {
   "cell_type": "markdown",
   "metadata": {},
   "source": [
    "We want to generate random numbers from a distribution with the following pdf:\n",
    "\n",
    "$$f(x) = 4x^{3}, \\text{ for }  x\\in [0, 1].$$\n",
    "\n",
    "The cdf is:\n",
    "\n",
    "$$F(x) = x^{4}, \\text{ for }  x\\in [0, 1].$$\n",
    "\n"
   ]
  },
  {
   "cell_type": "markdown",
   "metadata": {},
   "source": [
    "### part 1.1 - 10 pts\n",
    "\n"
   ]
  },
  {
   "cell_type": "markdown",
   "metadata": {},
   "source": [
    "Using the distribution function given above, code its inverse function\n",
    "$F^{-1}(u)$ and test it with `u` taking values of  `0, 0.25, 0.5,\n",
    "0.75, 1`.\n",
    "\n",
    "$$F^{-1}(u)=u^{1/4}$$"
   ]
  },
  {
   "cell_type": "markdown",
   "metadata": {},
   "source": [
    "#### ans\n",
    "\n"
   ]
  },
  {
   "cell_type": "code",
   "execution_count": 1,
   "metadata": {},
   "outputs": [
    {
     "data": {
      "text/plain": [
       "[0.0, 0.7071067811865476, 0.8408964152537145, 0.9306048591020996, 1.0]"
      ]
     },
     "execution_count": 1,
     "metadata": {},
     "output_type": "execute_result"
    }
   ],
   "source": [
    "import numpy as np\n",
    "def Fi(u):\n",
    "    return u**(1/4)\n",
    "\n",
    "[Fi(x) for x in [0, 0.25, 0.5, 0.75, 1]]"
   ]
  },
  {
   "cell_type": "markdown",
   "metadata": {},
   "source": [
    "### part 1.2 - 10 pts\n",
    "\n"
   ]
  },
  {
   "cell_type": "markdown",
   "metadata": {},
   "source": [
    "Using the inversion method we covered in the class, and assuming we can\n",
    "generate $U\\sim Uniform(0,1)$ (use `random.uniform()` from `numpy`),\n",
    "write a function `random_f` that generate a random number from the\n",
    "given distribution. Set `np.random.seed(2255)` and run your function.\n",
    "\n",
    "**Note**: Your function should return a float number as output.\n",
    "\n"
   ]
  },
  {
   "cell_type": "markdown",
   "metadata": {},
   "source": [
    "#### ans\n",
    "\n"
   ]
  },
  {
   "cell_type": "code",
   "execution_count": 2,
   "metadata": {},
   "outputs": [
    {
     "data": {
      "text/plain": [
       "0.9735625922331343"
      ]
     },
     "execution_count": 2,
     "metadata": {},
     "output_type": "execute_result"
    }
   ],
   "source": [
    "def random_f():\n",
    "    u = np.random.uniform()\n",
    "    return Fi(u)\n",
    "\n",
    "np.random.seed(2255)\n",
    "random_f()"
   ]
  },
  {
   "cell_type": "markdown",
   "metadata": {},
   "source": [
    "## Problem 2 (25 pts)\n",
    "\n"
   ]
  },
  {
   "cell_type": "markdown",
   "metadata": {},
   "source": [
    "We want to generate normal random variable using the rejection method and the standard Cauchy distribution.\n",
    "\n",
    "In this context, since we want to generate random variable from standard\n",
    "normal distribution, so we have the target density $f$\n",
    "\n",
    "$$f(x) = \\frac{1}{\\sqrt{2\\pi}}e^{-\\frac{x^2}{2}}, x\\in \\mathbb{R}.$$\n",
    "\n",
    "The instrumental density function $g$ is\n",
    "\n",
    "$$g(x) = \\frac{1}{\\pi(1+x^2)}, x\\in \\mathbb{R}.$$\n",
    "\n",
    "\n"
   ]
  },
  {
   "cell_type": "markdown",
   "metadata": {},
   "source": [
    "We want to specify $c$ such that:\n",
    "\n",
    "$$c = \\text{sup}_x \\frac{f(x)}{g(x)}=\\sqrt{\\frac{2\\pi}{e}}.$$"
   ]
  },
  {
   "cell_type": "markdown",
   "metadata": {},
   "source": [
    "### part 2.1 - 10 pts\n",
    "\n"
   ]
  },
  {
   "cell_type": "markdown",
   "metadata": {},
   "source": [
    "Using $c=\\sqrt{\\frac{2\\pi}{e}}$, write a function `random_normal()` to implement the\n",
    " rejection method to generate a random number from the pdf $f$. Assume we can\n",
    " generate $U\\sim Uniform(0,1)$ (use `random.uniform()` from `numpy`) and generate\n",
    "random variable from the standard Cauchy distribution (use\n",
    "`random.standard_cauchy()` function from `numpy`). Set\n",
    " `np.random.seed(2255)` and run your function.\n",
    "\n",
    "**Note**: Your function needs to return a float number as output.\n",
    "\n"
   ]
  },
  {
   "cell_type": "markdown",
   "metadata": {},
   "source": [
    "#### ans\n",
    "\n"
   ]
  },
  {
   "cell_type": "code",
   "execution_count": 3,
   "metadata": {},
   "outputs": [
    {
     "data": {
      "text/plain": [
       "-1.709289806604053"
      ]
     },
     "execution_count": 3,
     "metadata": {},
     "output_type": "execute_result"
    }
   ],
   "source": [
    "def random_normal(mu=0, sigma=1):\n",
    "    while True:\n",
    "        V = np.random.uniform()\n",
    "        X = np.random.standard_cauchy() \n",
    "        if (((2/np.pi/np.e)**0.5) / (1+X**2)) * V <= ((1/((2*np.pi)**0.5))*np.exp(-X**2/2)):\n",
    "            return sigma * X + mu\n",
    "\n",
    "np.random.seed(2255)\n",
    "random_normal()"
   ]
  },
  {
   "cell_type": "markdown",
   "metadata": {},
   "source": [
    "### part 2.2 - 15 pts\n",
    "\n"
   ]
  },
  {
   "cell_type": "markdown",
   "metadata": {},
   "source": [
    "Generate 5000 random numbers using `random.normal()` function from `numpy` and\n",
    "another 5000 random numbers using the function in part 2.1. Make 2 histograms\n",
    "overlay with each other to see if they are close (**set the number of bins to be\n",
    "20**). In addition, generate a two-sample QQ plot using the two data. **Set the random seed as 2255 before generating random numbers**.\n",
    "\n"
   ]
  },
  {
   "cell_type": "markdown",
   "metadata": {},
   "source": [
    "#### ans\n",
    "\n"
   ]
  },
  {
   "cell_type": "code",
   "execution_count": 4,
   "metadata": {},
   "outputs": [
    {
     "data": {
      "image/png": "[encoded data removed]",
      "text/plain": [
       "<Figure size 1000x800 with 1 Axes>"
      ]
     },
     "metadata": {},
     "output_type": "display_data"
    }
   ],
   "source": [
    "import matplotlib.pyplot as plt\n",
    "np.random.seed(2255)\n",
    "dat1 = np.random.normal(size = 5000)\n",
    "dat2 = [random_normal() for i in range(5000)]\n",
    "plt.figure(figsize=(10,8))\n",
    "bins = np.histogram(np.hstack((dat1,dat2)), bins=20)[1]\n",
    "plt.hist(dat1, alpha=0.5, label=\"data1\", bins = bins)\n",
    "plt.hist(dat2, alpha=0.5, label=\"data2\", bins = bins)\n",
    "plt.legend()\n",
    "plt.show()"
   ]
  },
  {
   "cell_type": "code",
   "execution_count": 5,
   "metadata": {},
   "outputs": [
    {
     "data": {
      "image/png": "[encoded data removed]",
      "text/plain": [
       "<Figure size 640x480 with 1 Axes>"
      ]
     },
     "metadata": {},
     "output_type": "display_data"
    }
   ],
   "source": [
    "import statsmodels.api as sm\n",
    "from statsmodels.graphics.gofplots import qqplot_2samples\n",
    "qqplot_2samples(np.array(dat1), np.array(dat2), xlabel=\"data1\", ylabel=\"data2\", line ='45')\n",
    "plt.show()"
   ]
  },
  {
   "cell_type": "markdown",
   "metadata": {},
   "source": [
    "## Problem 3 (20 pts)\n",
    "\n"
   ]
  },
  {
   "cell_type": "markdown",
   "metadata": {},
   "source": [
    "For each of the following two parts, you need to conduct a hypothesis\n",
    "test to test the claim. When conducting the test, please use the\n",
    "following procedures:\n",
    "\n",
    "1.  Formulate your null and alternative hypothesis.\n",
    "2.  Decide which test is appropriate.\n",
    "3.  Check if the assumption for the test you chose is satisfied.\n",
    "4.  Regardless of the assumptions, calculate the test statistic and the p-value.\n",
    "5.  Make a decision\n",
    "\n"
   ]
  },
  {
   "cell_type": "markdown",
   "metadata": {},
   "source": [
    "### part 3.1 - 10 pts\n",
    "\n"
   ]
  },
  {
   "cell_type": "markdown",
   "metadata": {},
   "source": [
    "Many students take a course which is advertised to boost scores on the LSAT. The agency that teaches the course claims the course is an effective way to raise scores on the LSAT. To test this claim, a group of students are given the LSAT and their scores are recorded. They then attend the course for 5 weeks and retake the exam. The data can be found in the file **lsat.csv**. PRESCORE and POSTSCORE show the scores before and after taking the course.\n",
    "\n",
    "Conduct an appropriate test at the $\\alpha = 0.1$ level of\n",
    "significance."
   ]
  },
  {
   "cell_type": "markdown",
   "metadata": {},
   "source": [
    "#### ans\n",
    "\n"
   ]
  },
  {
   "cell_type": "markdown",
   "metadata": {},
   "source": [
    "$H_0: \\mu_1 = \\mu_2$ vs $H_1: \\mu_1 < \\mu_2$\n",
    "\n",
    "Use paired t-test because of dependent population.\n",
    "\n",
    "The sample size is small, so need to test normality, which gives a\n",
    "p-value of 0.580. We can say the normality assumption is appropriate for the data.\n",
    "\n",
    "The p-value is 0.047, which is smaller than 0.1. So we reject $H_0$.\n",
    "\n"
   ]
  },
  {
   "cell_type": "code",
   "execution_count": 6,
   "metadata": {},
   "outputs": [
    {
     "name": "stdout",
     "output_type": "stream",
     "text": [
      "The p value of shapiro wilk test is 0.5802\n",
      "The test statistics is -1.7289, and the p value is 0.0472.\n"
     ]
    }
   ],
   "source": [
    "import pandas as pd\n",
    "dat = pd.read_csv('lsat.csv')\n",
    "d = dat.PRESCORE - dat.POSTSCORE\n",
    "# small sample size, need to test normality\n",
    "import scipy.stats as scs\n",
    "print('The p value of shapiro wilk test is {}'.format(scs.shapiro(d).pvalue.round(4)))\n",
    "# p-value is large, t-test is fine\n",
    "t_score, p_value = scs.ttest_1samp(d, popmean=0, alternative='less')\n",
    "print('The test statistics is {}, and the p value is {}.'.format(t_score.round(4), p_value.round(4)))\n",
    "# reject $H_0$ because pvalue is smaller than 0.1"
   ]
  },
  {
   "cell_type": "markdown",
   "metadata": {},
   "source": [
    "### part 3.2 - 10 pts\n",
    "\n"
   ]
  },
  {
   "cell_type": "markdown",
   "metadata": {},
   "source": [
    "The data in file **mathsat.csv** contains SAT math scores of 28 engineering students and 22 business students. Is there a significant difference in the average SAT math score between engineering students and business students?\n",
    "Conduct an appropriate test to test at $\\alpha=0.05$ level of\n",
    "significance.\n",
    "\n"
   ]
  },
  {
   "cell_type": "markdown",
   "metadata": {},
   "source": [
    "#### ans\n",
    "\n"
   ]
  },
  {
   "cell_type": "markdown",
   "metadata": {},
   "source": [
    "$H_0: \\mu_1 = \\mu_2$ vs $H_1: \\mu_1 \\ne \\mu_2$\n",
    "\n",
    "Use two sample t-test because of dependence assumption is fine.\n",
    "\n",
    "The sample size is small, so need to test normality, which gives\n",
    "p-values of 0.659 and 0.148. We can say the normality assumption is appropriate for the data.\n",
    "\n",
    "The p-value is 0.2, which is larger than 0.05. So we fail to reject $H_0$."
   ]
  },
  {
   "cell_type": "code",
   "execution_count": 7,
   "metadata": {},
   "outputs": [
    {
     "name": "stdout",
     "output_type": "stream",
     "text": [
      "The p value of shapiro wilk test for Engineering students data is 0.6593\n",
      "The p value of shapiro wilk test for Business students data is 0.1482\n",
      "The test statistics is 1.3004, and the p value is 0.2.\n"
     ]
    }
   ],
   "source": [
    "dat = pd.read_csv('mathsat.csv')\n",
    "# small sample size, need to test normality\n",
    "print('The p value of shapiro wilk test for Engineering students data is {}'.format(scs.shapiro(dat.Engineering).pvalue.round(4)))\n",
    "print('The p value of shapiro wilk test for Business students data is {}'.format(scs.shapiro(dat.Business.dropna()).pvalue.round(4)))\n",
    "# both p-values are large, t-test is fine\n",
    "import statsmodels.stats.api as sms\n",
    "t_score, p_value, degree_fr = sms.ttest_ind(dat.Engineering, dat.Business.dropna(), alternative='two-sided',usevar='unequal')\n",
    "print('The test statistics is {}, and the p value is {}.'.format(t_score.round(4), p_value.round(4)))\n",
    "# fail to reject $H_0$ because pvalue is larger than 0.05"
   ]
  },
  {
   "cell_type": "markdown",
   "metadata": {},
   "source": [
    "## Problem 4 (30 pts)\n",
    "\n"
   ]
  },
  {
   "cell_type": "markdown",
   "metadata": {},
   "source": [
    "The file \"`Game_of_Thrones_Script.csv`\" contains line script for\n",
    "characters across 8 seasons. Use this file, answer the following\n",
    "question. You may need to set `keep_default_na=False` when loading the data,\n",
    "e.g., "
   ]
  },
  {
   "cell_type": "code",
   "execution_count": 8,
   "metadata": {},
   "outputs": [
    {
     "data": {
      "text/html": [
       "<div>\n",
       "<style scoped>\n",
       "    .dataframe tbody tr th:only-of-type {\n",
       "        vertical-align: middle;\n",
       "    }\n",
       "\n",
       "    .dataframe tbody tr th {\n",
       "        vertical-align: top;\n",
       "    }\n",
       "\n",
       "    .dataframe thead th {\n",
       "        text-align: right;\n",
       "    }\n",
       "</style>\n",
       "<table border=\"1\" class=\"dataframe\">\n",
       "  <thead>\n",
       "    <tr style=\"text-align: right;\">\n",
       "      <th></th>\n",
       "      <th>Release Date</th>\n",
       "      <th>Season</th>\n",
       "      <th>Episode</th>\n",
       "      <th>Episode Title</th>\n",
       "      <th>Name</th>\n",
       "      <th>Sentence</th>\n",
       "    </tr>\n",
       "  </thead>\n",
       "  <tbody>\n",
       "    <tr>\n",
       "      <th>0</th>\n",
       "      <td>2011/4/17</td>\n",
       "      <td>Season 1</td>\n",
       "      <td>Episode 1</td>\n",
       "      <td>Winter is Coming</td>\n",
       "      <td>waymar royce</td>\n",
       "      <td>What do you expect? They're savages. One lot s...</td>\n",
       "    </tr>\n",
       "    <tr>\n",
       "      <th>1</th>\n",
       "      <td>2011/4/17</td>\n",
       "      <td>Season 1</td>\n",
       "      <td>Episode 1</td>\n",
       "      <td>Winter is Coming</td>\n",
       "      <td>will</td>\n",
       "      <td>I've never seen wildlings do a thing like this...</td>\n",
       "    </tr>\n",
       "    <tr>\n",
       "      <th>2</th>\n",
       "      <td>2011/4/17</td>\n",
       "      <td>Season 1</td>\n",
       "      <td>Episode 1</td>\n",
       "      <td>Winter is Coming</td>\n",
       "      <td>waymar royce</td>\n",
       "      <td>How close did you get?</td>\n",
       "    </tr>\n",
       "    <tr>\n",
       "      <th>3</th>\n",
       "      <td>2011/4/17</td>\n",
       "      <td>Season 1</td>\n",
       "      <td>Episode 1</td>\n",
       "      <td>Winter is Coming</td>\n",
       "      <td>will</td>\n",
       "      <td>Close as any man would.</td>\n",
       "    </tr>\n",
       "    <tr>\n",
       "      <th>4</th>\n",
       "      <td>2011/4/17</td>\n",
       "      <td>Season 1</td>\n",
       "      <td>Episode 1</td>\n",
       "      <td>Winter is Coming</td>\n",
       "      <td>gared</td>\n",
       "      <td>We should head back to the wall.</td>\n",
       "    </tr>\n",
       "    <tr>\n",
       "      <th>...</th>\n",
       "      <td>...</td>\n",
       "      <td>...</td>\n",
       "      <td>...</td>\n",
       "      <td>...</td>\n",
       "      <td>...</td>\n",
       "      <td>...</td>\n",
       "    </tr>\n",
       "    <tr>\n",
       "      <th>23906</th>\n",
       "      <td>2019/5/19</td>\n",
       "      <td>Season 8</td>\n",
       "      <td>Episode 6</td>\n",
       "      <td>The Iron Throne</td>\n",
       "      <td>brienne</td>\n",
       "      <td>I think we can all agree that ships take prece...</td>\n",
       "    </tr>\n",
       "    <tr>\n",
       "      <th>23907</th>\n",
       "      <td>2019/5/19</td>\n",
       "      <td>Season 8</td>\n",
       "      <td>Episode 6</td>\n",
       "      <td>The Iron Throne</td>\n",
       "      <td>bronn</td>\n",
       "      <td>I think that's a very presumptuous statement.</td>\n",
       "    </tr>\n",
       "    <tr>\n",
       "      <th>23908</th>\n",
       "      <td>2019/5/19</td>\n",
       "      <td>Season 8</td>\n",
       "      <td>Episode 6</td>\n",
       "      <td>The Iron Throne</td>\n",
       "      <td>tyrion lannister</td>\n",
       "      <td>I once brought a jackass and a honeycomb into ...</td>\n",
       "    </tr>\n",
       "    <tr>\n",
       "      <th>23909</th>\n",
       "      <td>2019/5/19</td>\n",
       "      <td>Season 8</td>\n",
       "      <td>Episode 6</td>\n",
       "      <td>The Iron Throne</td>\n",
       "      <td>man</td>\n",
       "      <td>The Queen in the North!</td>\n",
       "    </tr>\n",
       "    <tr>\n",
       "      <th>23910</th>\n",
       "      <td>2019/5/19</td>\n",
       "      <td>Season 8</td>\n",
       "      <td>Episode 6</td>\n",
       "      <td>The Iron Throne</td>\n",
       "      <td>all</td>\n",
       "      <td>The Queen in the North! The Queen in the North...</td>\n",
       "    </tr>\n",
       "  </tbody>\n",
       "</table>\n",
       "<p>23911 rows × 6 columns</p>\n",
       "</div>"
      ],
      "text/plain": [
       "      Release Date    Season    Episode     Episode Title              Name  \\\n",
       "0        2011/4/17  Season 1  Episode 1  Winter is Coming      waymar royce   \n",
       "1        2011/4/17  Season 1  Episode 1  Winter is Coming              will   \n",
       "2        2011/4/17  Season 1  Episode 1  Winter is Coming      waymar royce   \n",
       "3        2011/4/17  Season 1  Episode 1  Winter is Coming              will   \n",
       "4        2011/4/17  Season 1  Episode 1  Winter is Coming             gared   \n",
       "...            ...       ...        ...               ...               ...   \n",
       "23906    2019/5/19  Season 8  Episode 6   The Iron Throne           brienne   \n",
       "23907    2019/5/19  Season 8  Episode 6   The Iron Throne             bronn   \n",
       "23908    2019/5/19  Season 8  Episode 6   The Iron Throne  tyrion lannister   \n",
       "23909    2019/5/19  Season 8  Episode 6   The Iron Throne               man   \n",
       "23910    2019/5/19  Season 8  Episode 6   The Iron Throne               all   \n",
       "\n",
       "                                                Sentence  \n",
       "0      What do you expect? They're savages. One lot s...  \n",
       "1      I've never seen wildlings do a thing like this...  \n",
       "2                                 How close did you get?  \n",
       "3                                Close as any man would.  \n",
       "4                       We should head back to the wall.  \n",
       "...                                                  ...  \n",
       "23906  I think we can all agree that ships take prece...  \n",
       "23907      I think that's a very presumptuous statement.  \n",
       "23908  I once brought a jackass and a honeycomb into ...  \n",
       "23909                            The Queen in the North!  \n",
       "23910  The Queen in the North! The Queen in the North...  \n",
       "\n",
       "[23911 rows x 6 columns]"
      ]
     },
     "execution_count": 8,
     "metadata": {},
     "output_type": "execute_result"
    }
   ],
   "source": [
    "import pandas as pd\n",
    "pd.read_csv(\"Game_of_Thrones_Script.csv\", keep_default_na=False)"
   ]
  },
  {
   "cell_type": "markdown",
   "metadata": {},
   "source": [
    "### part 4.1 - 5 pts\n",
    "\n"
   ]
  },
  {
   "cell_type": "markdown",
   "metadata": {},
   "source": [
    "Which episode has the least number of characters?"
   ]
  },
  {
   "cell_type": "markdown",
   "metadata": {},
   "source": [
    "#### ans\n",
    "\n"
   ]
  },
  {
   "cell_type": "code",
   "execution_count": 9,
   "metadata": {},
   "outputs": [
    {
     "data": {
      "text/plain": [
       "('Episode 9', 'has', 134, 'characters.')"
      ]
     },
     "execution_count": 9,
     "metadata": {},
     "output_type": "execute_result"
    }
   ],
   "source": [
    "df1 = pd.read_csv(\"Game_of_Thrones_Script.csv\", keep_default_na=False)\n",
    "ge = df1.groupby('Episode')\n",
    "ncs = ge['Name'].apply(lambda x: x.nunique())\n",
    "ncs\n",
    "ncs.idxmin(), \"has\", ncs.min(), \"characters.\""
   ]
  },
  {
   "cell_type": "markdown",
   "metadata": {},
   "source": [
    "### part 4.2 - 10 pts\n",
    "\n"
   ]
  },
  {
   "cell_type": "markdown",
   "metadata": {},
   "source": [
    "Which episode has the most line of sentences in total?"
   ]
  },
  {
   "cell_type": "markdown",
   "metadata": {},
   "source": [
    "#### ans\n",
    "\n"
   ]
  },
  {
   "cell_type": "code",
   "execution_count": 10,
   "metadata": {},
   "outputs": [
    {
     "data": {
      "text/plain": [
       "'Episode 5'"
      ]
     },
     "execution_count": 10,
     "metadata": {},
     "output_type": "execute_result"
    }
   ],
   "source": [
    "ge = df1.groupby('Episode')\n",
    "n_lines = ge['Sentence'].apply(lambda x: x.count())\n",
    "n_lines.idxmax()"
   ]
  },
  {
   "cell_type": "markdown",
   "metadata": {},
   "source": [
    "### part 4.3 - 5 pts\n",
    "\n"
   ]
  },
  {
   "cell_type": "markdown",
   "metadata": {},
   "source": [
    "For season 3, list the top 5 charaters who had the most sentences and how many sentences they have said."
   ]
  },
  {
   "cell_type": "markdown",
   "metadata": {},
   "source": [
    "#### ans\n",
    "\n"
   ]
  },
  {
   "cell_type": "code",
   "execution_count": 11,
   "metadata": {},
   "outputs": [
    {
     "data": {
      "text/plain": [
       "Name\n",
       "tyrion lannister      241\n",
       "jaime lannister       129\n",
       "daenerys targaryen    117\n",
       "arya stark            104\n",
       "robb stark             99\n",
       "Name: Sentence, dtype: int64"
      ]
     },
     "execution_count": 11,
     "metadata": {},
     "output_type": "execute_result"
    }
   ],
   "source": [
    "gn = df1[df1['Season'] == 'Season 3'].groupby('Name')\n",
    "n_lines = gn['Sentence'].apply(lambda x: x.count())\n",
    "n_lines.nlargest(5)"
   ]
  },
  {
   "cell_type": "markdown",
   "metadata": {},
   "source": [
    "### part 4.4 - 10 pts\n",
    "\n"
   ]
  },
  {
   "cell_type": "markdown",
   "metadata": {},
   "source": [
    "Based on the **Sentence** column, create a new column called `num_words`\n",
    "which gives the total number of words in the sentence."
   ]
  },
  {
   "cell_type": "markdown",
   "metadata": {},
   "source": [
    "#### ans\n",
    "\n"
   ]
  },
  {
   "cell_type": "code",
   "execution_count": 12,
   "metadata": {},
   "outputs": [
    {
     "data": {
      "text/html": [
       "<div>\n",
       "<style scoped>\n",
       "    .dataframe tbody tr th:only-of-type {\n",
       "        vertical-align: middle;\n",
       "    }\n",
       "\n",
       "    .dataframe tbody tr th {\n",
       "        vertical-align: top;\n",
       "    }\n",
       "\n",
       "    .dataframe thead th {\n",
       "        text-align: right;\n",
       "    }\n",
       "</style>\n",
       "<table border=\"1\" class=\"dataframe\">\n",
       "  <thead>\n",
       "    <tr style=\"text-align: right;\">\n",
       "      <th></th>\n",
       "      <th>Release Date</th>\n",
       "      <th>Season</th>\n",
       "      <th>Episode</th>\n",
       "      <th>Episode Title</th>\n",
       "      <th>Name</th>\n",
       "      <th>Sentence</th>\n",
       "      <th>num_words</th>\n",
       "    </tr>\n",
       "  </thead>\n",
       "  <tbody>\n",
       "    <tr>\n",
       "      <th>0</th>\n",
       "      <td>2011/4/17</td>\n",
       "      <td>Season 1</td>\n",
       "      <td>Episode 1</td>\n",
       "      <td>Winter is Coming</td>\n",
       "      <td>waymar royce</td>\n",
       "      <td>What do you expect? They're savages. One lot s...</td>\n",
       "      <td>25</td>\n",
       "    </tr>\n",
       "    <tr>\n",
       "      <th>1</th>\n",
       "      <td>2011/4/17</td>\n",
       "      <td>Season 1</td>\n",
       "      <td>Episode 1</td>\n",
       "      <td>Winter is Coming</td>\n",
       "      <td>will</td>\n",
       "      <td>I've never seen wildlings do a thing like this...</td>\n",
       "      <td>21</td>\n",
       "    </tr>\n",
       "    <tr>\n",
       "      <th>2</th>\n",
       "      <td>2011/4/17</td>\n",
       "      <td>Season 1</td>\n",
       "      <td>Episode 1</td>\n",
       "      <td>Winter is Coming</td>\n",
       "      <td>waymar royce</td>\n",
       "      <td>How close did you get?</td>\n",
       "      <td>5</td>\n",
       "    </tr>\n",
       "    <tr>\n",
       "      <th>3</th>\n",
       "      <td>2011/4/17</td>\n",
       "      <td>Season 1</td>\n",
       "      <td>Episode 1</td>\n",
       "      <td>Winter is Coming</td>\n",
       "      <td>will</td>\n",
       "      <td>Close as any man would.</td>\n",
       "      <td>5</td>\n",
       "    </tr>\n",
       "    <tr>\n",
       "      <th>4</th>\n",
       "      <td>2011/4/17</td>\n",
       "      <td>Season 1</td>\n",
       "      <td>Episode 1</td>\n",
       "      <td>Winter is Coming</td>\n",
       "      <td>gared</td>\n",
       "      <td>We should head back to the wall.</td>\n",
       "      <td>7</td>\n",
       "    </tr>\n",
       "  </tbody>\n",
       "</table>\n",
       "</div>"
      ],
      "text/plain": [
       "  Release Date    Season    Episode     Episode Title          Name  \\\n",
       "0    2011/4/17  Season 1  Episode 1  Winter is Coming  waymar royce   \n",
       "1    2011/4/17  Season 1  Episode 1  Winter is Coming          will   \n",
       "2    2011/4/17  Season 1  Episode 1  Winter is Coming  waymar royce   \n",
       "3    2011/4/17  Season 1  Episode 1  Winter is Coming          will   \n",
       "4    2011/4/17  Season 1  Episode 1  Winter is Coming         gared   \n",
       "\n",
       "                                            Sentence  num_words  \n",
       "0  What do you expect? They're savages. One lot s...         25  \n",
       "1  I've never seen wildlings do a thing like this...         21  \n",
       "2                             How close did you get?          5  \n",
       "3                            Close as any man would.          5  \n",
       "4                   We should head back to the wall.          7  "
      ]
     },
     "execution_count": 12,
     "metadata": {},
     "output_type": "execute_result"
    }
   ],
   "source": [
    "df1['num_words'] = df1['Sentence'].apply(lambda x: len(x.split()))\n",
    "df1.head()"
   ]
  }
 ],
 "metadata": {
  "kernelspec": {
   "display_name": "Python 3 (ipykernel)",
   "language": "python",
   "name": "python3"
  },
  "language_info": {
   "codemirror_mode": {
    "name": "ipython",
    "version": 3
   },
   "file_extension": ".py",
   "mimetype": "text/x-python",
   "name": "python",
   "nbconvert_exporter": "python",
   "pygments_lexer": "ipython3",
   "version": "3.12.8"
  },
  "org": null
 },
 "nbformat": 4,
 "nbformat_minor": 4
}
