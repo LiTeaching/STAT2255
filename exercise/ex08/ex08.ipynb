{
 "cells": [
  {
   "cell_type": "markdown",
   "metadata": {},
   "source": [
    "STAT 2255: Exercise 08\n",
    "======================\n",
    "\n"
   ]
  },
  {
   "cell_type": "markdown",
   "metadata": {},
   "source": [
    "## Problem 1\n",
    "\n"
   ]
  },
  {
   "cell_type": "markdown",
   "metadata": {},
   "source": [
    "Suppose there is 365 days, denote 1-365, in a year and the chance of\n",
    "getting born in each day is the same. Write a function to generate a\n",
    "birthday for a random person, using the `random.uniform` method from the `numpy`\n",
    "package.\n",
    "\n",
    "**Note**: The birthday of a random person is a discrete random variable\n",
    "that has the following distribution\n",
    "\n",
    "\n",
    "| Birthday ($xᵢ$)|$P$|\n",
    "|---|---|\n",
    "| 1|$\\frac{1}{365}$|\n",
    "| 2|$\\frac{1}{365}$|\n",
    "| 3|$\\frac{1}{365}$|\n",
    "| 4|$\\frac{1}{365}$|\n",
    "| &#x2026;|&#x2026;|\n",
    "| 363|$\\frac{1}{365}$|\n",
    "| 364|$\\frac{1}{365}$|\n",
    "| 365|$\\frac{1}{365}$|\n",
    "\n"
   ]
  }
 ],
 "metadata": {
  "kernelspec": {
   "display_name": "Python 3 (ipykernel)",
   "language": "python",
   "name": "python3"
  },
  "language_info": {
   "codemirror_mode": {
    "name": "ipython",
    "version": 3
   },
   "file_extension": ".py",
   "mimetype": "text/x-python",
   "name": "python",
   "nbconvert_exporter": "python",
   "pygments_lexer": "ipython3",
   "version": "3.12.8"
  },
  "org": null
 },
 "nbformat": 4,
 "nbformat_minor": 4
}
