{
 "cells": [
  {
   "cell_type": "markdown",
   "metadata": {},
   "source": [
    "STAT 2255: Exercise 08\n",
    "======================\n",
    "\n"
   ]
  },
  {
   "cell_type": "markdown",
   "metadata": {},
   "source": [
    "## Problem 1\n",
    "\n"
   ]
  },
  {
   "cell_type": "markdown",
   "metadata": {},
   "source": [
    "Suppose there is 365 days, denote 1-365, in a year and the chance of\n",
    "getting born in each day is the same. Write a function to generate a\n",
    "birthday for a random person, using the `random.uniform` method from the `numpy`\n",
    "package.\n",
    "\n",
    "**Note**: The birthday of a random person is a discrete random variable\n",
    "that has the following distribution\n",
    "\n",
    "\n",
    "| Birthday ($xᵢ$)|$P$|\n",
    "|---|---|\n",
    "| 1|$\\frac{1}{365}$|\n",
    "| 2|$\\frac{1}{365}$|\n",
    "| 3|$\\frac{1}{365}$|\n",
    "| 4|$\\frac{1}{365}$|\n",
    "| &#x2026;|&#x2026;|\n",
    "| 363|$\\frac{1}{365}$|\n",
    "| 364|$\\frac{1}{365}$|\n",
    "| 365|$\\frac{1}{365}$|\n",
    "\n"
   ]
  },
  {
   "cell_type": "code",
   "execution_count": 1,
   "metadata": {},
   "outputs": [
    {
     "name": "stdout",
     "output_type": "stream",
     "text": [
      "[328, 200, 232, 207, 245, 76, 284, 307, 201, 120, 35, 169, 96, 250, 304, 165, 309, 277, 117, 156, 6, 15, 315, 174, 157, 82, 208, 355, 305, 7]\n"
     ]
    }
   ],
   "source": [
    "import numpy as np\n",
    "def birthday():\n",
    "    birthday = 1\n",
    "    U = np.random.uniform()\n",
    "    while U >= 1/365:\n",
    "        U = U - 1/365\n",
    "        birthday += 1\n",
    "    return birthday\n",
    "np.random.seed(2255)\n",
    "print([birthday() for i in range(30)])"
   ]
  },
  {
   "cell_type": "code",
   "execution_count": 2,
   "metadata": {},
   "outputs": [
    {
     "name": "stdout",
     "output_type": "stream",
     "text": [
      "[328, 200, 232, 207, 245, 76, 284, 307, 201, 120, 35, 169, 96, 250, 304, 165, 309, 277, 117, 156, 6, 15, 315, 174, 157, 82, 208, 355, 305, 7]\n"
     ]
    }
   ],
   "source": [
    "def discrete_random(X, P):\n",
    "    index = 0\n",
    "    U = np.random.uniform()\n",
    "    p_i = P[index]\n",
    "    while U >= p_i:\n",
    "        U = U-p_i\n",
    "        index += 1\n",
    "        p_i = P[index]\n",
    "    return X[index]\n",
    "\n",
    "import numpy as np\n",
    "X = np.arange(1, 365)\n",
    "P = np.ones(365) / 365\n",
    "np.random.seed(2255)\n",
    "print([discrete_random(X, P) for i in range(30)])"
   ]
  }
 ],
 "metadata": {
  "kernelspec": {
   "display_name": "Python 3 (ipykernel)",
   "language": "python",
   "name": "python3"
  },
  "language_info": {
   "codemirror_mode": {
    "name": "ipython",
    "version": 3
   },
   "file_extension": ".py",
   "mimetype": "text/x-python",
   "name": "python",
   "nbconvert_exporter": "python",
   "pygments_lexer": "ipython3",
   "version": "3.12.8"
  },
  "org": null
 },
 "nbformat": 4,
 "nbformat_minor": 4
}
