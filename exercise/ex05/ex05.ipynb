{
 "cells": [
  {
   "cell_type": "markdown",
   "metadata": {},
   "source": [
    "STAT 2255: Exercise 05\n",
    "======================\n",
    "\n"
   ]
  },
  {
   "cell_type": "markdown",
   "metadata": {},
   "source": [
    "## Problem 1\n",
    "\n"
   ]
  },
  {
   "cell_type": "markdown",
   "metadata": {},
   "source": [
    "For All the methods you defined in Problems 1 and 2 of Exercise 4, write tests\n",
    "to test if they do what you expect them to do. For example, to test the `__lt__`\n",
    "method defined in Point class, we can do the following.\n",
    "\n"
   ]
  },
  {
   "cell_type": "code",
   "execution_count": null,
   "metadata": {},
   "outputs": [],
   "source": [
    "from ex04classes import Point, SavingAccount\n",
    "import unittest\n",
    "class TestMyCode(unittest.TestCase):\n",
    "    def testComparatorlt(self):\n",
    "        point1 = Point(3, 4)\n",
    "        point2 = Point(1, 2)\n",
    "        self.assertEqual(point1 < point2, False)"
   ]
  },
  {
   "cell_type": "markdown",
   "metadata": {},
   "source": [
    "### Requirements\n",
    "\n"
   ]
  },
  {
   "cell_type": "markdown",
   "metadata": {},
   "source": [
    "-   Define you own test inside the above class to test other methods you\n",
    "    have written in Problems 1 and 2 of Exercise 4.\n",
    "-   Create one test for each method."
   ]
  },
  {
   "cell_type": "markdown",
   "metadata": {},
   "source": [
    "## Problem 2\n",
    "\n"
   ]
  },
  {
   "cell_type": "markdown",
   "metadata": {},
   "source": [
    "The idea of fixed point algorithm and its procedures are given in the\n",
    "note. Write a function to implement the fixed-point algorithm.\n",
    "\n"
   ]
  }
 ],
 "metadata": {
  "kernelspec": {
   "display_name": "Python 3 (ipykernel)",
   "language": "python",
   "name": "python3"
  },
  "language_info": {
   "codemirror_mode": {
    "name": "ipython",
    "version": 3
   },
   "file_extension": ".py",
   "mimetype": "text/x-python",
   "name": "python",
   "nbconvert_exporter": "python",
   "pygments_lexer": "ipython3",
   "version": "3.12.8"
  },
  "org": null
 },
 "nbformat": 4,
 "nbformat_minor": 4
}
