{
 "cells": [
  {
   "cell_type": "markdown",
   "metadata": {},
   "source": [
    "STAT 2255: Exercise 05\n",
    "======================\n",
    "\n"
   ]
  },
  {
   "cell_type": "markdown",
   "metadata": {},
   "source": [
    "## Problem 1\n",
    "\n"
   ]
  },
  {
   "cell_type": "markdown",
   "metadata": {},
   "source": [
    "For All the methods you defined in Problems 1 and 2 of Exercise 4, write tests\n",
    "to test if they do what you expect them to do. For example, to test the `__lt__`\n",
    "method defined in Point class, we can do the following.\n",
    "\n"
   ]
  },
  {
   "cell_type": "code",
   "execution_count": null,
   "metadata": {},
   "outputs": [],
   "source": [
    "from ex04classes import Point, SavingAccount\n",
    "import unittest\n",
    "class TestMyCode(unittest.TestCase):\n",
    "    def testComparatorlt(self):\n",
    "        point1 = Point(3, 4)\n",
    "        point2 = Point(1, 2)\n",
    "        self.assertEqual(point1 < point2, False)"
   ]
  },
  {
   "cell_type": "markdown",
   "metadata": {},
   "source": [
    "### Requirements\n",
    "\n"
   ]
  },
  {
   "cell_type": "markdown",
   "metadata": {},
   "source": [
    "-   Define you own test inside the above class to test other methods you\n",
    "    have written in Problems 1 and 2 of Exercise 4.\n",
    "-   Create one test for each method."
   ]
  },
  {
   "cell_type": "markdown",
   "metadata": {},
   "source": [
    "### Sample solution\n",
    "\n"
   ]
  },
  {
   "cell_type": "code",
   "execution_count": 1,
   "metadata": {},
   "outputs": [
    {
     "name": "stderr",
     "output_type": "stream",
     "text": [
      "........\n",
      "----------------------------------------------------------------------\n",
      "Ran 8 tests in 0.005s\n",
      "\n",
      "OK\n"
     ]
    },
    {
     "data": {
      "text/plain": [
       "<unittest.main.TestProgram at 0x11060f350>"
      ]
     },
     "execution_count": 1,
     "metadata": {},
     "output_type": "execute_result"
    }
   ],
   "source": [
    "from ex04classes import Point, SavingAccount\n",
    "import unittest\n",
    "\n",
    "class TestMyCode(unittest.TestCase):\n",
    "    def testComparatorLt(self):\n",
    "        p1 = Point(3, 3)\n",
    "        p2 = Point(1, 2)\n",
    "        self.assertEqual(p1 < p2, False)\n",
    "    def testComparatorGt(self):\n",
    "        p1 = Point(3, 3)\n",
    "        p2 = Point(1, 2)\n",
    "        self.assertEqual(p1 > p2, True)\n",
    "    def testComparatorEq(self):\n",
    "        p1 = Point(3, 3)\n",
    "        p2 = Point(1, 2)\n",
    "        self.assertEqual(p1 == p2, False)\n",
    "    def testDistFromOrigin(self):\n",
    "        p1 = Point(3, 4)\n",
    "        self.assertEqual(p1.dist_from_origin(), 5)\n",
    "\n",
    "    def testget_num_withdrawals(self):\n",
    "        a1 = SavingAccount(1500, max_num_withdrawals=1, minimum=1000,\n",
    "                           interest_rate=0.1, bonus_contribution=0.15)\n",
    "        self.assertEqual(a1.get_num_withdrawals(), 0)\n",
    "        a1.withdraw(100)\n",
    "        self.assertEqual(a1.get_num_withdrawals(), 1)\n",
    "    def testWithdraw(self):\n",
    "        a1 = SavingAccount(1500, 1, 1000, 0.1, 0.15)\n",
    "        a1.withdraw(100)\n",
    "        self.assertEqual(a1.get_amount_held(), 1400)\n",
    "    def testAddBonus(self):\n",
    "        a1 = SavingAccount(1500, 1, 1000, 0.1, 0.15)\n",
    "        a1.withdraw(500)\n",
    "        a1.add_bonus()\n",
    "        self.assertEqual(a1.get_amount_held(), 1000 + (0.15 * 1000) + 100)\n",
    "    def testCloseAccount(self):\n",
    "        a1 = SavingAccount(1500, 1, 1000, 0.1, 0.15)\n",
    "        a1.withdraw(500)\n",
    "        a1.close_account()\n",
    "        self.assertEqual(a1.get_amount_held(),\n",
    "                         1000 + (0.15 * 1000) + (0.1 * 1000) + 100)\n",
    "        \n",
    "unittest.main(argv=['first-arg-is-ignored'], exit=False)"
   ]
  },
  {
   "cell_type": "markdown",
   "metadata": {},
   "source": [
    "## Problem 2\n",
    "\n"
   ]
  },
  {
   "cell_type": "markdown",
   "metadata": {},
   "source": [
    "The idea of fixed point algorithm and its procedures are given in the\n",
    "note. Write a function to implement the fixed-point algorithm.\n",
    "\n"
   ]
  },
  {
   "cell_type": "code",
   "execution_count": 2,
   "metadata": {},
   "outputs": [
    {
     "data": {
      "text/plain": [
       "6.84583258423511"
      ]
     },
     "execution_count": 2,
     "metadata": {},
     "output_type": "execute_result"
    }
   ],
   "source": [
    "def fixpoint(f, init, alpha, epsilon = 10**(-5), max_iter=100):\n",
    "    x_old = init\n",
    "    counter = 0\n",
    "    while counter < max_iter:\n",
    "        x_new = x_old + alpha * f(x_old)\n",
    "        if (abs(x_new-x_old) < epsilon):\n",
    "            return x_new\n",
    "        x_old = x_new\n",
    "        counter += 1\n",
    "    print(\"Fail to get converged result\")\n",
    "\n",
    "import numpy as np\n",
    "\n",
    "def y(x):\n",
    "    y = np.cos(x)-x+6\n",
    "    return y\n",
    "\n",
    "fixpoint(y, 1, 0.3)"
   ]
  }
 ],
 "metadata": {
  "kernelspec": {
   "display_name": "Python 3 (ipykernel)",
   "language": "python",
   "name": "python3"
  },
  "language_info": {
   "codemirror_mode": {
    "name": "ipython",
    "version": 3
   },
   "file_extension": ".py",
   "mimetype": "text/x-python",
   "name": "python",
   "nbconvert_exporter": "python",
   "pygments_lexer": "ipython3",
   "version": "3.12.8"
  },
  "org": null
 },
 "nbformat": 4,
 "nbformat_minor": 4
}
