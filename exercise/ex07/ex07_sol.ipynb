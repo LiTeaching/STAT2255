{
 "cells": [
  {
   "cell_type": "markdown",
   "metadata": {},
   "source": [
    "STAT 2255: Exercise 07\n",
    "======================\n",
    "\n"
   ]
  },
  {
   "cell_type": "markdown",
   "metadata": {},
   "source": [
    "## Problem 1 \n",
    "\n"
   ]
  },
  {
   "cell_type": "markdown",
   "metadata": {},
   "source": [
    "A professor measured the time (in seconds) required to catch a falling\n",
    "yard stick for 12 randomly selected students' dominant hand and\n",
    "nondominant hand. The professor claims that the reaction time in an\n",
    "individual's dominant hand is less than the reaction time in their\n",
    "nondominant hand. Test the claim at the $\\alpha$ = 0.05 level of\n",
    "significance.\n",
    "\n",
    "\n",
    "| Student|Dominent Hand $x₁$|Nondominent Hand $x₂$|\n",
    "|---|---|---|\n",
    "| 1|0.177|0.179|\n",
    "| 2|0.210|0.202|\n",
    "| 3|0.189|0.184|\n",
    "| 4|0.198|0.215|\n",
    "| 5|0.194|0.193|\n",
    "| 6|0.160|0.194|\n",
    "| 7|0.163|0.160|\n",
    "| 8|0.166|0.209|\n",
    "| 9|0.152|0.164|\n",
    "| 10|0.190|0.210|\n",
    "| 11|0.172|0.197|\n",
    "| 12|0.186|0.208|\n",
    "\n",
    "Use the above data to answer the following questions.\n",
    "\n"
   ]
  },
  {
   "cell_type": "markdown",
   "metadata": {},
   "source": [
    "### Part 1 \n",
    "\n"
   ]
  },
  {
   "cell_type": "markdown",
   "metadata": {},
   "source": [
    "What is the null and alternative hypothesis?\n",
    "\n"
   ]
  },
  {
   "cell_type": "markdown",
   "metadata": {},
   "source": [
    "#### answer\n",
    "\n"
   ]
  },
  {
   "cell_type": "markdown",
   "metadata": {},
   "source": [
    "Let $\\mu_1$ be the population average reaction time for the dominant\n",
    "hand, and $\\mu_2$ be the population average reaction time for the\n",
    "nondominant hand. $$H_0: \\mu_1 = \\mu_2 \\rightarrow d = 0$$\n",
    "$$H_1: \\mu_1 < \\mu_2 \\rightarrow d < 0$$\n",
    "\n"
   ]
  },
  {
   "cell_type": "markdown",
   "metadata": {},
   "source": [
    "### Part 2 \n",
    "\n"
   ]
  },
  {
   "cell_type": "markdown",
   "metadata": {},
   "source": [
    "What is the correct test to perform? Test if the underlying assumption is\n",
    "satisfied?\n",
    "\n"
   ]
  },
  {
   "cell_type": "markdown",
   "metadata": {},
   "source": [
    "#### answer\n",
    "\n"
   ]
  },
  {
   "cell_type": "markdown",
   "metadata": {},
   "source": [
    "1.  **Paired t test**, since two population are dependent.\n",
    "\n",
    "2.  With a small sample size of 12, it is necessary to check the\n",
    "    normality assumption (on d).\n",
    "\n"
   ]
  },
  {
   "cell_type": "code",
   "execution_count": 1,
   "metadata": {},
   "outputs": [
    {
     "data": {
      "text/plain": [
       "ShapiroResult(statistic=0.9432523106596442, pvalue=0.541317415259161)"
      ]
     },
     "execution_count": 1,
     "metadata": {},
     "output_type": "execute_result"
    }
   ],
   "source": [
    "import scipy.stats as scs\n",
    "import statsmodels.stats.api as sms\n",
    "import pandas as pd\n",
    "dominant = pd.Series([0.177, 0.210, 0.189, 0.198, 0.194, 0.16, 0.163, 0.166, 0.152, 0.19, 0.172, 0.186])\n",
    "nondominant = pd.Series([0.179, 0.202, 0.184, 0.215, 0.193, 0.194, 0.16, 0.209, 0.164, 0.210, 0.197,0.208])\n",
    "d = dominant-nondominant\n",
    "scs.shapiro(d)"
   ]
  },
  {
   "cell_type": "markdown",
   "metadata": {},
   "source": [
    "The p-value is large, indicating that the normality assumption is appropriate.\n",
    "\n"
   ]
  },
  {
   "cell_type": "markdown",
   "metadata": {},
   "source": [
    "### Part 3 \n",
    "\n"
   ]
  },
  {
   "cell_type": "markdown",
   "metadata": {},
   "source": [
    "Conduct the test to test the claim.\n",
    "\n"
   ]
  },
  {
   "cell_type": "markdown",
   "metadata": {},
   "source": [
    "#### answer\n",
    "\n"
   ]
  },
  {
   "cell_type": "code",
   "execution_count": 2,
   "metadata": {},
   "outputs": [
    {
     "name": "stdout",
     "output_type": "stream",
     "text": [
      "The test statistics is -2.7759, and the p value is 0.009.\n"
     ]
    }
   ],
   "source": [
    "t_score, p_value = scs.ttest_1samp(d, popmean=0, alternative='less')\n",
    "print('The test statistics is {}, and the p value is {}.'.format(float(t_score.round(4)), float(p_value.round(4))))"
   ]
  },
  {
   "cell_type": "markdown",
   "metadata": {},
   "source": [
    "The p-value is small so reject the null.\n",
    "\n"
   ]
  }
 ],
 "metadata": {
  "kernelspec": {
   "display_name": "Python 3 (ipykernel)",
   "language": "python",
   "name": "python3"
  },
  "language_info": {
   "codemirror_mode": {
    "name": "ipython",
    "version": 3
   },
   "file_extension": ".py",
   "mimetype": "text/x-python",
   "name": "python",
   "nbconvert_exporter": "python",
   "pygments_lexer": "ipython3",
   "version": "3.12.8"
  },
  "org": null
 },
 "nbformat": 4,
 "nbformat_minor": 4
}
