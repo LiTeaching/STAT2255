{
 "cells": [
  {
   "cell_type": "markdown",
   "metadata": {},
   "source": [
    "STAT 2255: Exercise 04\n",
    "======================\n",
    "\n"
   ]
  },
  {
   "cell_type": "markdown",
   "metadata": {},
   "source": [
    "Do not use any external modules \n",
    "\n"
   ]
  },
  {
   "cell_type": "markdown",
   "metadata": {},
   "source": [
    "## Problem 1 \n",
    "\n"
   ]
  },
  {
   "cell_type": "markdown",
   "metadata": {},
   "source": [
    "For this problem, you will create a **Point** class that can be used to\n",
    "generated any point in the cartesian coordinate. The followings are the\n",
    "attributes and methods that should be implemented in the **Point**:\n",
    "\n",
    "-   `__init__` (already done): To initialize a point object, you need to\n",
    "    specify the x and y coordinates and assign to `self.x` and `self.y`\n",
    "    attributes.\n",
    "-   Comparators methods:\n",
    "    -   Support the comparators < (`__lt__`), >(`__gt__`), and `==(=__eq__`).\n",
    "    -   p1 is less than p2 if its distance from the origin is less.\n",
    "    -   p1 is greater than p2 if its distance from the origin is greater.\n",
    "    -   p1 and p2 are equal if they are the same distance from the origin.\n",
    "-   `dist_from_origin` method:\n",
    "    -   Returns the Cartesian distance of this point from the origin\n",
    "\n"
   ]
  },
  {
   "cell_type": "code",
   "execution_count": 1,
   "metadata": {},
   "outputs": [],
   "source": [
    "class Point:\n",
    "    def __init__(self, x, y):\n",
    "        self.x = x\n",
    "        self.y = y\n",
    "    def dist_from_origin(self):\n",
    "        return (self.x**2 + self.y**2)**0.5\n",
    "    def __lt__(a, b):\n",
    "        return a.dist_from_origin() < b.dist_from_origin()\n",
    "    def __gt__(a, b):\n",
    "        return a.dist_from_origin() > b.dist_from_origin()\n",
    "    def __eq__(a, b):\n",
    "        return a.dist_from_origin() == b.dist_from_origin()"
   ]
  },
  {
   "cell_type": "code",
   "execution_count": 4,
   "metadata": {},
   "outputs": [
    {
     "data": {
      "text/plain": [
       "False"
      ]
     },
     "execution_count": 4,
     "metadata": {},
     "output_type": "execute_result"
    }
   ],
   "source": [
    "p1 = Point(3, 3)\n",
    "p2 = Point(1, 2)\n",
    "p1 > p2"
   ]
  },
  {
   "cell_type": "markdown",
   "metadata": {},
   "source": [
    "## Problem 2\n",
    "\n"
   ]
  },
  {
   "cell_type": "markdown",
   "metadata": {},
   "source": [
    "We have seen how to construct the **CheckingAccount** in the class. In\n",
    "this problem, you will construct the **SavingAccount**. Similar to the\n",
    "CheckingAccount class, since SavingAccount **is a** Account, so it should\n",
    "have all the attributes and methods defined for Account class. In\n",
    "addition, it should also have it's unique attributes and methods:\n",
    "\n",
    "-   The `interest_rate` for saving account is 10%.\n",
    "-   The minimum for saving account is 1000.\n",
    "-   Since rewards of a savings account were greater than those of a\n",
    "    checking account, the bank allowed only one withdrawal from a savings\n",
    "    account.\n",
    "-   When customer close the account, to reward the savings account owners,\n",
    "    the bank added additional bonus of 15% (calculated off of the minimum\n",
    "    amount held throughout the year) PLUS a fixed amount of 100 . Hence,\n",
    "    for example, if the holdings were, 1000, 800, 1200, the owner of a\n",
    "    savings account got 1200 + 800 x 0.1 + 800 x 0.15 + 100 = 1500.\n",
    "\n"
   ]
  },
  {
   "cell_type": "markdown",
   "metadata": {},
   "source": [
    "### Requirements:\n",
    "\n"
   ]
  },
  {
   "cell_type": "markdown",
   "metadata": {},
   "source": [
    "Your SavingAccount class should satisfy the followings:\n",
    "\n",
    "-   `__init__`:\n",
    "    -   To initialize a SavingAccount object, we need to specify (Already\n",
    "        done):\n",
    "        -   `initial_amount`\n",
    "        -   `max_num_withdrawals` (default: 1)\n",
    "        -   `minimum` (default: 1000)\n",
    "        -   `interest_rate` (default: 0.1)\n",
    "        -   `bonus_contribution` (default: 0.15)\n",
    "    -   Inherit all the attributes and methods from its super class Account\n",
    "        (Already done).\n",
    "    -   Additional attributes that are unique to SavingAccount:\n",
    "        -   `self._num_withdrawals` (set to 0 when initializing)\n",
    "        -   `self._max_num_withdrawals`\n",
    "        -   `self._bonus_contribution`\n",
    "-   `get_num_withdrawals` method:\n",
    "    -   Return the number of withdrawals.\n",
    "-   `withdraw` method:\n",
    "    -   Override the withdraw method from its super class.\n",
    "-   `add_bonus` method:\n",
    "    -   Increase the amount held by (percent bonus contribution) \\* (minimal\n",
    "        amount ever held) + 100.\n",
    "-   `close_account` method:\n",
    "    -   Override the `close_account` method from its super class.\n",
    "\n"
   ]
  },
  {
   "cell_type": "markdown",
   "metadata": {},
   "source": [
    "### Remark\n",
    "\n"
   ]
  },
  {
   "cell_type": "markdown",
   "metadata": {},
   "source": [
    "-   import uuid module using `import uuid`.\n",
    "-   import Account class from the module named \"Account\" using\n",
    "    `from Account import Account` (Make sure to put the Account.py file in\n",
    "    the same folder as ex04.ipynb file).\n",
    "-   Use the following structure to design you **SavingAccount** class. The comments\n",
    "    are served as instructions for each methods. Use those instructions and insert\n",
    "    you code right below each comment.\n",
    "\n"
   ]
  },
  {
   "cell_type": "code",
   "execution_count": 5,
   "metadata": {},
   "outputs": [],
   "source": [
    "import uuid\n",
    "from Account import Account\n",
    "class SavingAccount(Account):\n",
    "    def __init__(self, initial_amount, max_num_withdrawals=1,\n",
    "                 minimum=1000, interest_rate=0.10,\n",
    "                 bonus_contribution=0.15):\n",
    "        super().__init__(initial_amount, minimum, interest_rate)\n",
    "        # 1) Set the number of withdrawals to 0 (only SavingsAccounts track the number\n",
    "        #    of withdrawals\n",
    "        self._num_withdrawals = 0\n",
    "        # 2) Set the _max_num_withdrawals attribute to the value given in the argument\n",
    "        #    of the constructor\n",
    "        self._max_num_withdrawals = max_num_withdrawals\n",
    "        # 3) Set the _bonus_contribution to the value given in the argument of\n",
    "        #    the constructor\n",
    "        self._bonus_contribution = bonus_contribution\n",
    "\n",
    "    def get_num_withdrawals(self):\n",
    "        # Simply return the number of withdrawals\n",
    "        return self._num_withdrawals\n",
    "\n",
    "    def withdraw(self, w_amount):\n",
    "        # 1) If the number of withdrawals is larger than or equal to the maximal\n",
    "        #  number of withdrawals allowed throw and exception:\n",
    "        #  raise ValueError(\"Savings accounts allow only {} withdrawals.\".format(self._max_num_withdrawals))\n",
    "        if self._num_withdrawals >= self._max_num_withdrawals:\n",
    "            raise ValueError(\"Savings accounts allow only {} withdrawals.\".format(self._max_num_withdrawals))\n",
    "        # 2) Increase the withdrawal counter by 1\n",
    "        else: self._num_withdrawals += 1\n",
    "        # 3) Call the parent's implementation of withdraw as it does the rest of\n",
    "        #    things for us\n",
    "        super().withdraw(w_amount)\n",
    "\n",
    "    def add_bonus(self):\n",
    "        # According to the banks rewards scheme, increase the amount held by the\n",
    "        # (percent bonus contribution) * (minimal amount ever held) + 100\n",
    "        self._amount_held += 0.15 * self._min_ever_held + 100\n",
    "\n",
    "    def close_account(self):\n",
    "        # 1) Add bonus\n",
    "        self.add_bonus()\n",
    "        # 2) Call the parent's close_account method as it does lots of stuff already\n",
    "        return super().close_account()"
   ]
  },
  {
   "cell_type": "code",
   "execution_count": 6,
   "metadata": {},
   "outputs": [
    {
     "data": {
      "text/plain": [
       "0"
      ]
     },
     "execution_count": 6,
     "metadata": {},
     "output_type": "execute_result"
    }
   ],
   "source": [
    "a1 = SavingAccount(1500)\n",
    "a1.get_num_withdrawals()"
   ]
  },
  {
   "cell_type": "code",
   "execution_count": 7,
   "metadata": {},
   "outputs": [
    {
     "data": {
      "text/plain": [
       "1"
      ]
     },
     "execution_count": 7,
     "metadata": {},
     "output_type": "execute_result"
    }
   ],
   "source": [
    "a1.withdraw(500)\n",
    "a1.get_num_withdrawals()"
   ]
  },
  {
   "cell_type": "code",
   "execution_count": 8,
   "metadata": {},
   "outputs": [
    {
     "data": {
      "text/plain": [
       "1000"
      ]
     },
     "execution_count": 8,
     "metadata": {},
     "output_type": "execute_result"
    }
   ],
   "source": [
    "a1.get_amount_held()"
   ]
  },
  {
   "cell_type": "code",
   "execution_count": null,
   "metadata": {},
   "outputs": [],
   "source": [
    "a1.add_bonus()\n",
    "a1.get_amount_held()"
   ]
  }
 ],
 "metadata": {
  "kernelspec": {
   "display_name": "Python 3 (ipykernel)",
   "language": "python",
   "name": "python3"
  },
  "language_info": {
   "codemirror_mode": {
    "name": "ipython",
    "version": 3
   },
   "file_extension": ".py",
   "mimetype": "text/x-python",
   "name": "python",
   "nbconvert_exporter": "python",
   "pygments_lexer": "ipython3",
   "version": "3.12.8"
  },
  "org": null
 },
 "nbformat": 4,
 "nbformat_minor": 4
}
