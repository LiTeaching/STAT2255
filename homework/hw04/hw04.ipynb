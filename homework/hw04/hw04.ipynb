{
 "cells": [
  {
   "cell_type": "markdown",
   "metadata": {},
   "source": [
    "STAT 2255: Homework 04\n",
    "======================\n",
    "\n"
   ]
  },
  {
   "cell_type": "markdown",
   "metadata": {},
   "source": [
    "## Problem 1 (50 points)\n",
    "\n"
   ]
  },
  {
   "cell_type": "markdown",
   "metadata": {},
   "source": [
    "### part (a)\n",
    "\n"
   ]
  },
  {
   "cell_type": "markdown",
   "metadata": {},
   "source": [
    "To check if there is any duplicates in a list, we have covered 3\n",
    "different solutions. Can you come up with a solution that is more\n",
    "efficient than them?\n",
    "\n",
    "**Hint**: sorting a list with `L.sort` takes $n\\log_{2}n$ time.\n",
    "\n"
   ]
  },
  {
   "cell_type": "markdown",
   "metadata": {},
   "source": [
    "### part (b)\n",
    "\n"
   ]
  },
  {
   "cell_type": "markdown",
   "metadata": {},
   "source": [
    "For `n = [800, 1600, 3200, 6400, 12800]`, use the timetrials function we\n",
    "defined in the notebook, calculate the running time for **duplicates2**\n",
    "and your function to verify that your function is indeed more efficient.\n",
    "\n"
   ]
  },
  {
   "cell_type": "markdown",
   "metadata": {},
   "source": [
    "## Problem 2 (50 points)"
   ]
  },
  {
   "cell_type": "markdown",
   "metadata": {},
   "source": [
    "The Cauchy($\\theta$, 1) distribution has the following probability\n",
    "density function\n",
    "\n",
    "$$f(x\\,|\\,\\theta) = \\frac{1}{\\pi[1+(x-\\theta)^2]},$$\n",
    "\n",
    "where $\\theta$ is the unknown parameter.\n",
    "\n",
    "Suppose $x_1$, $x_2$, $\\dots$, $x_n$ are observed independent\n",
    "sample from the Cauchy distribution, then the loglikelihood function for\n",
    "the data can be written as:\n",
    "\n",
    "$$\\ell(\\theta) = -n\\log \\pi - \\sum_{i=1}^n \\log (1+(x_i-\\theta)^2).$$\n",
    "\n",
    "The maximum likelihood estimator (mle) for $\\theta$, denoted as\n",
    "$\\theta_0$, is then the solution of the following equation\n",
    "\n",
    "$$\\ell'(\\theta) = \\frac{d\\ell(\\theta)}{d\\theta} = -2\\sum_{i=1}^n \\frac{\\theta-x_i}{1+(\\theta-x_i)^2} = 0.$$\n",
    "\n",
    "Then, the root finding techniques we have learned can be used here.\n",
    "Essentially, we are looking for $\\theta_0$ such that\n",
    "$\\ell'(\\theta_0) = 0$.\n",
    "\n"
   ]
  },
  {
   "cell_type": "markdown",
   "metadata": {},
   "source": [
    "### Part (a)"
   ]
  },
  {
   "cell_type": "markdown",
   "metadata": {},
   "source": [
    "Now, suppose our observed data $x_i$'s are defined in a list called\n",
    "data such that:\n",
    "\n"
   ]
  },
  {
   "cell_type": "code",
   "execution_count": 3,
   "metadata": {},
   "outputs": [],
   "source": [
    "data = [-2.44, 3.29, 3.71, -2.40, 4.53, -0.07, -1.05, -13.87, -2.53,\n",
    "        -1.75, 3.30, 1.77, -0.23, 2.76, 3.80, 3.47, 56.75, -1.34, 4.24]"
   ]
  },
  {
   "cell_type": "markdown",
   "metadata": {},
   "source": [
    "Use the **newton method** you wrote during the class, find\n",
    "the maximizer for the log-likelihood function.\n",
    "\n",
    "**Hint**:\n",
    "\n",
    "1.  The newton method requires the derivate of function $\\ell'$, $\\ell''$.\n",
    "    The expression for $\\ell''$ is given below:\n",
    "    $$\\ell''(\\theta) = -2\\sum_{i=1}^n \\frac{1-(\\theta-x_i)^2}{[1+(\\theta-x_i)^2]^2}$$\n",
    "2.  Given the $x_i$'s in list called data, if you want to write a\n",
    "    function such that\n",
    "\n",
    "    $$g(\\theta) = \\sum_{i=1}^n (\\theta-x_i)^2,$$\n",
    "\n",
    "    one possible way is\n",
    "\n",
    "```python\n",
    "    def g(theta):\n",
    "        return(sum([(theta-x)**2 for x in data]))\n",
    "```\n",
    "3.  SET **init = 4** and set **max<sub>iter</sub> = 100**.\n"
   ]
  },
  {
   "cell_type": "markdown",
   "metadata": {},
   "source": [
    "### Part (b)"
   ]
  },
  {
   "cell_type": "markdown",
   "metadata": {},
   "source": [
    "Use the **Fixed point** method to solve the problem in part (a).\n",
    "\n",
    "**Hint**:\n",
    "\n",
    "1.  try two different values for **alpha = -0.25 and 0.125**.\n",
    "2.  set **init = 4**.\n",
    "3.  set **max<sub>iter</sub> = 100**."
   ]
  }
 ],
 "metadata": {
  "kernelspec": {
   "display_name": "Python 3 (ipykernel)",
   "language": "python",
   "name": "python3"
  },
  "language_info": {
   "codemirror_mode": {
    "name": "ipython",
    "version": 3
   },
   "file_extension": ".py",
   "mimetype": "text/x-python",
   "name": "python",
   "nbconvert_exporter": "python",
   "pygments_lexer": "ipython3",
   "version": "3.12.8"
  },
  "org": null
 },
 "nbformat": 4,
 "nbformat_minor": 4
}
