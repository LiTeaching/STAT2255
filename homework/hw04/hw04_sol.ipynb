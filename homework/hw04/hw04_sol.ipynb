{
 "cells": [
  {
   "cell_type": "markdown",
   "metadata": {},
   "source": [
    "STAT 2255: Homework 04\n",
    "======================\n",
    "\n"
   ]
  },
  {
   "cell_type": "markdown",
   "metadata": {},
   "source": [
    "## Problem 1 (50 points)\n",
    "\n"
   ]
  },
  {
   "cell_type": "markdown",
   "metadata": {},
   "source": [
    "### part (a)\n",
    "\n"
   ]
  },
  {
   "cell_type": "markdown",
   "metadata": {},
   "source": [
    "To check if there is any duplicates in a list, we have covered 3\n",
    "different solutions. Can you come up with a solution that is more\n",
    "efficient than them?\n",
    "\n",
    "**Hint**: sorting a list with `L.sort` takes $n\\log_{2}n$ time.\n",
    "\n"
   ]
  },
  {
   "cell_type": "markdown",
   "metadata": {},
   "source": [
    "### Sample solution\n",
    "\n"
   ]
  },
  {
   "cell_type": "code",
   "execution_count": 1,
   "metadata": {},
   "outputs": [],
   "source": [
    "def check2(L, item, left = 0, right = None):\n",
    "    if right is None: \n",
    "        right = len(L)\n",
    "    if right - left == 0: # empty list\n",
    "        return False\n",
    "    if right - left == 1: # list of a single element\n",
    "        return L[left] == item\n",
    "    median = (right + left) // 2\n",
    "    if item < L[median]:\n",
    "        return check2(L, item, left, median)\n",
    "    else:\n",
    "        return check2(L, item, median, right)\n",
    "    \n",
    "def duplicates4(L):\n",
    "    L.sort()\n",
    "    n = len(L)\n",
    "    for i in range(1,n):\n",
    "        if check2(L, L[i], 0, i):\n",
    "            return True\n",
    "    return False"
   ]
  },
  {
   "cell_type": "markdown",
   "metadata": {},
   "source": [
    "### part (b)\n",
    "\n"
   ]
  },
  {
   "cell_type": "markdown",
   "metadata": {},
   "source": [
    "For `n = [800, 1600, 3200, 6400, 12800]`, use the timetrials function we\n",
    "defined in the notebook, calculate the running time for **duplicates2**\n",
    "and your function to verify that your function is indeed more efficient.\n",
    "\n"
   ]
  },
  {
   "cell_type": "markdown",
   "metadata": {},
   "source": [
    "### Sample solution\n",
    "\n"
   ]
  },
  {
   "cell_type": "code",
   "execution_count": 2,
   "metadata": {},
   "outputs": [
    {
     "name": "stdout",
     "output_type": "stream",
     "text": [
      "Times for duplicates2:\n",
      "average =  0.0076936 for n = 800\n",
      "average =  0.0200237 for n = 1600\n",
      "average =  0.0834360 for n = 3200\n",
      "average =  0.3538107 for n = 6400\n",
      "average =  1.4217803 for n = 12800\n",
      "\n",
      "Times for duplicates4:\n",
      "average =  0.0004680 for n = 800\n",
      "average =  0.0011002 for n = 1600\n",
      "average =  0.0024213 for n = 3200\n",
      "average =  0.0052920 for n = 6400\n",
      "average =  0.0115125 for n = 12800\n"
     ]
    }
   ],
   "source": [
    "def timetrials(func, n, trials = 10):\n",
    "    totaltime = 0\n",
    "    L = list(range(n))\n",
    "    for i in range(trials):\n",
    "        start = time.time() \n",
    "        func(L)\n",
    "        time_for_one_run = time.time() - start\n",
    "        totaltime += time_for_one_run\n",
    "    print(\"average = %10.7f for n = %d\" % (totaltime/trials, n))\n",
    "\n",
    "def duplicates2(L):\n",
    "    n = len(L)\n",
    "    for i in range(1,n):\n",
    "        for j in range(i):\n",
    "            if L[i] == L[j]:\n",
    "                return True\n",
    "    return False\n",
    "\n",
    "import time\n",
    "\n",
    "print(\"Times for duplicates2:\")\n",
    "for n in [800, 1600, 3200, 6400, 12800]:\n",
    "    timetrials(duplicates2, n)\n",
    "\n",
    "print(\"\\nTimes for duplicates4:\")\n",
    "for n in [800, 1600, 3200, 6400, 12800]:\n",
    "    timetrials(duplicates4, n)"
   ]
  },
  {
   "cell_type": "markdown",
   "metadata": {},
   "source": [
    "## Problem 2 (50 points)"
   ]
  },
  {
   "cell_type": "markdown",
   "metadata": {},
   "source": [
    "The Cauchy($\\theta$, 1) distribution has the following probability\n",
    "density function\n",
    "\n",
    "$$f(x\\,|\\,\\theta) = \\frac{1}{\\pi[1+(x-\\theta)^2]},$$\n",
    "\n",
    "where $\\theta$ is the unknown parameter.\n",
    "\n",
    "Suppose $x_1$, $x_2$, $\\dots$, $x_n$ are observed independent\n",
    "sample from the Cauchy distribution, then the loglikelihood function for\n",
    "the data can be written as:\n",
    "\n",
    "$$\\ell(\\theta) = -n\\log \\pi - \\sum_{i=1}^n \\log (1+(x_i-\\theta)^2).$$\n",
    "\n",
    "The maximum likelihood estimator (mle) for $\\theta$, denoted as\n",
    "$\\theta_0$, is then the solution of the following equation\n",
    "\n",
    "$$\\ell'(\\theta) = \\frac{d\\ell(\\theta)}{d\\theta} = -2\\sum_{i=1}^n \\frac{\\theta-x_i}{1+(\\theta-x_i)^2} = 0.$$\n",
    "\n",
    "Then, the root finding techniques we have learned can be used here.\n",
    "Essentially, we are looking for $\\theta_0$ such that\n",
    "$\\ell'(\\theta_0) = 0$.\n",
    "\n"
   ]
  },
  {
   "cell_type": "markdown",
   "metadata": {},
   "source": [
    "### Part (a)"
   ]
  },
  {
   "cell_type": "markdown",
   "metadata": {},
   "source": [
    "Now, suppose our observed data $x_i$'s are defined in a list called\n",
    "data such that:\n",
    "\n"
   ]
  },
  {
   "cell_type": "code",
   "execution_count": 3,
   "metadata": {},
   "outputs": [],
   "source": [
    "data = [-2.44, 3.29, 3.71, -2.40, 4.53, -0.07, -1.05, -13.87, -2.53,\n",
    "        -1.75, 3.30, 1.77, -0.23, 2.76, 3.80, 3.47, 56.75, -1.34, 4.24]"
   ]
  },
  {
   "cell_type": "markdown",
   "metadata": {},
   "source": [
    "Use the **newton method** you wrote during the class, find\n",
    "the maximizer for the log-likelihood function.\n",
    "\n",
    "**Hint**:\n",
    "\n",
    "1.  The newton method requires the derivate of function $\\ell'$, $\\ell''$.\n",
    "    The expression for $\\ell''$ is given below:\n",
    "    $$\\ell''(\\theta) = -2\\sum_{i=1}^n \\frac{1-(\\theta-x_i)^2}{[1+(\\theta-x_i)^2]^2}$$\n",
    "2.  Given the $x_i$'s in list called data, if you want to write a\n",
    "    function such that\n",
    "\n",
    "    $$g(\\theta) = \\sum_{i=1}^n (\\theta-x_i)^2,$$\n",
    "\n",
    "    one possible way is\n",
    "\n",
    "```python\n",
    "    def g(theta):\n",
    "        return(sum([(theta-x)**2 for x in data]))\n",
    "```\n",
    "3.  SET **init = 4** and set **max<sub>iter</sub> = 100**.\n"
   ]
  },
  {
   "cell_type": "code",
   "execution_count": 1,
   "metadata": {},
   "outputs": [
    {
     "data": {
      "text/plain": [
       "3.109774666820391"
      ]
     },
     "execution_count": 1,
     "metadata": {},
     "output_type": "execute_result"
    }
   ],
   "source": [
    "data = [-2.44, 3.29, 3.71, -2.40, 4.53, -0.07, -1.05, -13.87, -2.53,\n",
    "        -1.75, 3.30, 1.77, -0.23, 2.76, 3.80, 3.47, 56.75, -1.34, 4.24]\n",
    "\n",
    "def lp(theta):\n",
    "    return(-2 * sum([(theta - x) / (1 + (theta - x)**2) for x in data]))\n",
    "\n",
    "def lpp(theta):\n",
    "    return(-2 * sum([(1 - (theta - x)**2) / (1 + (theta - x)**2)**2 for x in data]))\n",
    "\n",
    "def newton(f, f_prime, init, epsilon = 10**(-5), max_iter=100):\n",
    "    x_old = init\n",
    "    counter = 0\n",
    "    while counter < max_iter:\n",
    "        try:\n",
    "            step_size = f(x_old) / f_prime(x_old)\n",
    "        except ZeroDivisionError:\n",
    "            print(\"f_prime eveluate to 0 during iteration\")\n",
    "            return None\n",
    "        x_new = x_old - step_size\n",
    "        if (abs(step_size) < epsilon):\n",
    "            return x_new\n",
    "        x_old = x_new\n",
    "        counter += 1\n",
    "    print(\"Fail to get converged result\")\n",
    "\n",
    "newton(lp, lpp, 4)"
   ]
  },
  {
   "cell_type": "markdown",
   "metadata": {},
   "source": [
    "### Part (b)"
   ]
  },
  {
   "cell_type": "markdown",
   "metadata": {},
   "source": [
    "Use the **Fixed point** method to solve the problem in part (a).\n",
    "\n",
    "**Hint**:\n",
    "\n",
    "1.  try two different values for **alpha = -0.25 and 0.125**.\n",
    "2.  set **init = 4**.\n",
    "3.  set **max<sub>iter</sub> = 100**."
   ]
  },
  {
   "cell_type": "code",
   "execution_count": 5,
   "metadata": {},
   "outputs": [
    {
     "name": "stdout",
     "output_type": "stream",
     "text": [
      "Fail to get converged result\n",
      "None\n",
      "3.109775572505576\n"
     ]
    }
   ],
   "source": [
    "def fixpoint(f, init, alpha, epsilon = 10**(-5), max_iter=100):\n",
    "    x_old = init\n",
    "    counter = 0\n",
    "    while counter < max_iter:\n",
    "        x_new = x_old + alpha * f(x_old)\n",
    "        if (abs(x_new-x_old) < epsilon):\n",
    "            return x_new\n",
    "        x_old = x_new\n",
    "        counter += 1\n",
    "    print(\"Fail to get converged result\")\n",
    "    \n",
    "print(fixpoint(lp, 4, -0.25))\n",
    "print(fixpoint(lp, 4, 0.125))"
   ]
  }
 ],
 "metadata": {
  "kernelspec": {
   "display_name": "Python 3 (ipykernel)",
   "language": "python",
   "name": "python3"
  },
  "language_info": {
   "codemirror_mode": {
    "name": "ipython",
    "version": 3
   },
   "file_extension": ".py",
   "mimetype": "text/x-python",
   "name": "python",
   "nbconvert_exporter": "python",
   "pygments_lexer": "ipython3",
   "version": "3.12.8"
  },
  "org": null
 },
 "nbformat": 4,
 "nbformat_minor": 4
}
