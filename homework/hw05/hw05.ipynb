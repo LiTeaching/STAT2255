{
 "cells": [
  {
   "cell_type": "markdown",
   "metadata": {},
   "source": [
    "STAT 2255: Homework 05\n",
    "======================\n",
    "\n"
   ]
  },
  {
   "cell_type": "markdown",
   "metadata": {},
   "source": [
    "## Problem 1\n",
    "\n"
   ]
  },
  {
   "cell_type": "markdown",
   "metadata": {},
   "source": [
    "For this problem, you are given 3 data files\n",
    "\n",
    "-   purchases: contains purchases record March 2019 - June 2019.\n",
    "-   customers: contains information about customers.\n",
    "-   products: contains information about products.\n",
    "\n",
    "First, import all 3 data files.\n",
    "\n",
    "**Note**: When importing customers.csv and products.csv, you may want to\n",
    "set `index_col=\"customer_id\"` and `index_col=\"product_id\"`.\n",
    "\n"
   ]
  },
  {
   "cell_type": "markdown",
   "metadata": {},
   "source": [
    "### part (a)  \n",
    "\n"
   ]
  },
  {
   "cell_type": "markdown",
   "metadata": {},
   "source": [
    "Using purchases as the left table, use left join to join **purchases** and\n",
    "**customers** together. In this case, since both tables contain column\n",
    "`customer_id`, so this column can be used as key for the joining.\n",
    "To do this, you need to set `on='customer_id'` in the `join` method. Name this\n",
    "joined table as **purchase1**.\n",
    "\n",
    "Using DataFrame **purchases1**, find the frequency of purchases for different gender group. \n",
    "\n"
   ]
  },
  {
   "cell_type": "markdown",
   "metadata": {},
   "source": [
    "### part (b)  \n",
    "\n"
   ]
  },
  {
   "cell_type": "markdown",
   "metadata": {},
   "source": [
    "Using purchases1 as the left table, use left join to join **purchases1**\n",
    "and **products** together. In this case, since both tables contain column\n",
    "`product_id`, so this column can be used as key for the joining. To do\n",
    "this, you need to set `on='product_id'` in the `join` method. Name this\n",
    "joined table as **purchase2**.\n",
    "\n",
    "List the top 5 best selling products (based on the **amount** sold).\n",
    "\n"
   ]
  },
  {
   "cell_type": "markdown",
   "metadata": {},
   "source": [
    "### part (c)  \n",
    "\n"
   ]
  },
  {
   "cell_type": "markdown",
   "metadata": {},
   "source": [
    "Repeat part b for each gender group: What are the top 5 best selling\n",
    "products for male and female group?\n",
    "\n",
    "**Note**: One possible way to do this is to first create two new\n",
    "DataFrames for each gender. Then repeat what you did in part b.\n",
    "\n"
   ]
  }
 ],
 "metadata": {
  "kernelspec": {
   "display_name": "Python 3 (ipykernel)",
   "language": "python",
   "name": "python3"
  },
  "language_info": {
   "codemirror_mode": {
    "name": "ipython",
    "version": 3
   },
   "file_extension": ".py",
   "mimetype": "text/x-python",
   "name": "python",
   "nbconvert_exporter": "python",
   "pygments_lexer": "ipython3",
   "version": "3.12.8"
  },
  "org": null
 },
 "nbformat": 4,
 "nbformat_minor": 4
}
