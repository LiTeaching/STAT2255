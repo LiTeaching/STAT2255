{
 "cells": [
  {
   "cell_type": "markdown",
   "metadata": {},
   "source": [
    "STAT 2255: Homework 05\n",
    "======================\n",
    "\n"
   ]
  },
  {
   "cell_type": "markdown",
   "metadata": {},
   "source": [
    "## Problem 1\n",
    "\n"
   ]
  },
  {
   "cell_type": "markdown",
   "metadata": {},
   "source": [
    "For this problem, you are given 3 data files\n",
    "\n",
    "-   purchases: contains purchases record March 2019 - June 2019.\n",
    "-   customers: contains information about customers.\n",
    "-   products: contains information about products.\n",
    "\n",
    "First, import all 3 data files.\n",
    "\n",
    "**Note**: When importing customers.csv and products.csv, you may want to\n",
    "set `index_col=\"customer_id\"` and `index_col=\"product_id\"`.\n",
    "\n"
   ]
  },
  {
   "cell_type": "markdown",
   "metadata": {},
   "source": [
    "### part (a)  \n",
    "\n"
   ]
  },
  {
   "cell_type": "markdown",
   "metadata": {},
   "source": [
    "Using purchases as the left table, use left join to join **purchases** and\n",
    "**customers** together. In this case, since both tables contain column\n",
    "`customer_id`, so this column can be used as key for the joining.\n",
    "To do this, you need to set `on='customer_id'` in the `join` method. Name this\n",
    "joined table as **purchase1**.\n",
    "\n",
    "Using DataFrame **purchases1**, find the frequency of purchases for different gender group. \n",
    "\n"
   ]
  },
  {
   "cell_type": "code",
   "execution_count": 1,
   "metadata": {},
   "outputs": [
    {
     "data": {
      "text/plain": [
       "gender\n",
       "Female    2779\n",
       "Male      2954\n",
       "Name: id, dtype: int64"
      ]
     },
     "execution_count": 1,
     "metadata": {},
     "output_type": "execute_result"
    }
   ],
   "source": [
    "import pandas as pd\n",
    "purchases = pd.read_csv(\"purchases.csv\")\n",
    "customers = pd.read_csv(\"customers.csv\", index_col=\"customer_id\")\n",
    "products = pd.read_csv(\"products.csv\", index_col=\"product_id\")\n",
    "purchase1 = purchases.join(customers, on='customer_id')\n",
    "purchase1.groupby('gender')['id'].apply(lambda x: x.count())"
   ]
  },
  {
   "cell_type": "markdown",
   "metadata": {},
   "source": [
    "### part (b)  \n",
    "\n"
   ]
  },
  {
   "cell_type": "markdown",
   "metadata": {},
   "source": [
    "Using purchases1 as the left table, use left join to join **purchases1**\n",
    "and **products** together. In this case, since both tables contain column\n",
    "`product_id`, so this column can be used as key for the joining. To do\n",
    "this, you need to set `on='product_id'` in the `join` method. Name this\n",
    "joined table as **purchase2**.\n",
    "\n",
    "List the top 5 best selling products (based on the **amount** sold).\n",
    "\n"
   ]
  },
  {
   "cell_type": "code",
   "execution_count": 2,
   "metadata": {},
   "outputs": [
    {
     "data": {
      "text/plain": [
       "product\n",
       "Cookies Oatmeal Raisin              2224\n",
       "Bar Bran Honey Nut                  2029\n",
       "Wine - Shiraz Wolf Blass Premium    1376\n",
       "Chicken - Thigh, Bone In            1285\n",
       "Fuji Apples                         1270\n",
       "Name: amount, dtype: int64"
      ]
     },
     "execution_count": 2,
     "metadata": {},
     "output_type": "execute_result"
    }
   ],
   "source": [
    "purchase2 = purchase1.join(products, on='product_id')\n",
    "purchase2.groupby('product')['amount'].sum().nlargest(5)"
   ]
  },
  {
   "cell_type": "markdown",
   "metadata": {},
   "source": [
    "### part (c)  \n",
    "\n"
   ]
  },
  {
   "cell_type": "markdown",
   "metadata": {},
   "source": [
    "Repeat part b for each gender group: What are the top 5 best selling\n",
    "products for male and female group?\n",
    "\n",
    "**Note**: One possible way to do this is to first create two new\n",
    "DataFrames for each gender. Then repeat what you did in part b.\n",
    "\n"
   ]
  },
  {
   "cell_type": "code",
   "execution_count": 3,
   "metadata": {},
   "outputs": [
    {
     "name": "stdout",
     "output_type": "stream",
     "text": [
      "For female group:\n",
      "product\n",
      "Bar Bran Honey Nut          1095\n",
      "Cookies Oatmeal Raisin       876\n",
      "Loaf Pan - 2 Lb, Foil        625\n",
      "Aromat Spice / Seasoning     624\n",
      "Chicken - Thigh, Bone In     620\n",
      "Name: amount, dtype: int64\n",
      "\n",
      "\n",
      "For male group:\n",
      "product\n",
      "Cookies Oatmeal Raisin              1213\n",
      "Bar Bran Honey Nut                   850\n",
      "Wine - Shiraz Wolf Blass Premium     755\n",
      "Spaghetti Squash                     730\n",
      "Plate - Foam, Bread And Butter       668\n",
      "Name: amount, dtype: int64\n"
     ]
    }
   ],
   "source": [
    "print('For female group:')\n",
    "purchase_f = purchase2.groupby('gender').get_group('Female')\n",
    "print(purchase_f.groupby('product')['amount'].sum().nlargest(5))\n",
    "print('\\n\\nFor male group:')\n",
    "purchase_m = purchase2.groupby('gender').get_group('Male')\n",
    "print(purchase_m.groupby('product')['amount'].sum().nlargest(5))"
   ]
  }
 ],
 "metadata": {
  "kernelspec": {
   "display_name": "Python 3 (ipykernel)",
   "language": "python",
   "name": "python3"
  },
  "language_info": {
   "codemirror_mode": {
    "name": "ipython",
    "version": 3
   },
   "file_extension": ".py",
   "mimetype": "text/x-python",
   "name": "python",
   "nbconvert_exporter": "python",
   "pygments_lexer": "ipython3",
   "version": "3.12.8"
  },
  "org": null
 },
 "nbformat": 4,
 "nbformat_minor": 4
}
