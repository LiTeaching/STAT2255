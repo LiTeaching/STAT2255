{
 "cells": [
  {
   "cell_type": "markdown",
   "metadata": {},
   "source": [
    "STAT 2255: Homework 03\n",
    "======================\n",
    "\n"
   ]
  },
  {
   "cell_type": "markdown",
   "metadata": {},
   "source": [
    "## Problem 1\n",
    "\n"
   ]
  },
  {
   "cell_type": "markdown",
   "metadata": {},
   "source": [
    "### (a) 15 pts\n",
    "\n"
   ]
  },
  {
   "cell_type": "markdown",
   "metadata": {},
   "source": [
    "Create a numpy array that consists of the first $n$ positive integers, i.e., 1,\n",
    "2, 3, &#x2026;, n, and calculate\n",
    "$$S=\\sqrt{\\sum_{i=1}^{n}\\frac{6}{i^2}}$$\n",
    "for $n=10^7$.\n",
    "Do the same by creating a List without using numpy, and compare the times of\n",
    "using the two approaches.\n",
    "\n"
   ]
  },
  {
   "cell_type": "markdown",
   "metadata": {},
   "source": [
    "### (b) 15 pts\n",
    "\n"
   ]
  },
  {
   "cell_type": "markdown",
   "metadata": {},
   "source": [
    "For the array `arr3` created using the following code,\n",
    "\n"
   ]
  },
  {
   "cell_type": "code",
   "execution_count": 3,
   "metadata": {},
   "outputs": [],
   "source": [
    "np.random.seed(2255)\n",
    "arr3 = 4 * np.random.standard_normal(10)"
   ]
  },
  {
   "cell_type": "markdown",
   "metadata": {},
   "source": [
    "return the fractional parts as `f` and integral part as `h`. Convert `f` and `h`\n",
    "to arrays of floats32 and int32, respectively. Check the memory usage of `f` and\n",
    "`h`, and the arrays with the converted types. You can use `.nbytes` to check the\n",
    "memory useage, e.g., `f.nbytes`.\n",
    "\n"
   ]
  },
  {
   "cell_type": "markdown",
   "metadata": {},
   "source": [
    "## Problem 2\n",
    "\n"
   ]
  },
  {
   "cell_type": "markdown",
   "metadata": {},
   "source": [
    "Use the same **data.csv** file in the previous homework for this problem.\n",
    "\n"
   ]
  },
  {
   "cell_type": "markdown",
   "metadata": {},
   "source": [
    "### (a) 5 pts\n",
    "\n"
   ]
  },
  {
   "cell_type": "markdown",
   "metadata": {},
   "source": [
    "The `genfromtxt` function from numpy can read data from the disk. Use it to read\n",
    "the data from **data.csv** to a variable `dat` and show the data type of its\n",
    "elements.\n",
    "\n"
   ]
  },
  {
   "cell_type": "markdown",
   "metadata": {},
   "source": [
    "### (b) 5 pts\n",
    "\n"
   ]
  },
  {
   "cell_type": "markdown",
   "metadata": {},
   "source": [
    "Create an numpy array `dat1` using the first 10 and last 53 elements of `dat`."
   ]
  },
  {
   "cell_type": "markdown",
   "metadata": {},
   "source": [
    "### (c) 5 pts\n",
    "\n"
   ]
  },
  {
   "cell_type": "markdown",
   "metadata": {},
   "source": [
    "Reshape `dat1` to a matrix of 7 rows and 9 columns. Calculate the column sum\n",
    "and the row sum, and the sum of all elements.\n",
    "\n"
   ]
  },
  {
   "cell_type": "markdown",
   "metadata": {},
   "source": [
    "### (d) 5 pts\n",
    "\n"
   ]
  },
  {
   "cell_type": "markdown",
   "metadata": {},
   "source": [
    "Replace the elements in `datm` that are larger than 3 by 3 and the elements\n",
    "smaller than 1 by 0.\n",
    "\n"
   ]
  },
  {
   "cell_type": "markdown",
   "metadata": {},
   "source": [
    "### (e) 5 pts\n",
    "\n"
   ]
  },
  {
   "cell_type": "markdown",
   "metadata": {},
   "source": [
    "What is the number of elements in `datm` from the previous problem that have\n",
    "zero reminder.\n",
    "\n"
   ]
  },
  {
   "cell_type": "markdown",
   "metadata": {},
   "source": [
    "### (f) 10 pts\n",
    "\n"
   ]
  },
  {
   "cell_type": "markdown",
   "metadata": {},
   "source": [
    "Let $X$ be the matrix consisting of the first 7 columns of `datm` and $Y$ be the\n",
    "matrix consisting of the last 2 columns of `datm`. Calculate\n",
    "$X^{-1}Y$.\n",
    "\n"
   ]
  },
  {
   "cell_type": "markdown",
   "metadata": {},
   "source": [
    "### (g) 10 pts\n",
    "\n"
   ]
  },
  {
   "cell_type": "markdown",
   "metadata": {},
   "source": [
    "For the `X` and `error` created with the following code,\n",
    "\n"
   ]
  },
  {
   "cell_type": "code",
   "execution_count": 15,
   "metadata": {},
   "outputs": [],
   "source": [
    "np.random.seed(2255)\n",
    "n, p = 1000, 7\n",
    "X = np.random.standard_normal((n, p))\n",
    "error = np.random.standard_normal(n)"
   ]
  },
  {
   "cell_type": "markdown",
   "metadata": {},
   "source": [
    "create $Y$ from equation\n",
    "$$Y = X \\beta + error$$\n",
    "where $\\beta=(1, 1, 2, 3, 2, 1, 1)'$. Calculate the least squares estimator of\n",
    "$\\beta$ defined as\n",
    "$$b=(X'X)^{-1}X'Y$$\n",
    "\n"
   ]
  },
  {
   "cell_type": "markdown",
   "metadata": {},
   "source": [
    "### (h) 25 pts\n",
    "\n"
   ]
  },
  {
   "cell_type": "markdown",
   "metadata": {},
   "source": [
    "Repeat the least squares simulation in the previous step for $R=1000$ times. At\n",
    "each repetition, generate a new `X`, `error`, and `Y`, but generate `X` with\n",
    "`np.random.multivariate_normal(mu, Sigma, n)`, where `mu` and `Sigma` are\n",
    "created with the following code. Calculate the least\n",
    "squares estimates for all repetitions and save them as rows of an array `result` with $R$\n",
    "rows and 7 columns.\n",
    "\n",
    "1.  Calculate the variances for the 7 columns of `result`. This is using a\n",
    "    simulation to estimate the variance of the least squares estimator. Remember\n",
    "    to set the random seed with `np.random.seed(2255)` in the beginning of the\n",
    "    code.\n",
    "2.  Obtain the diagonal elements the inverse of `Sigma` divided by $n$, i.e.,\n",
    "    $$\\frac{\\text{Sigma}^{-1}}{n}.$$\n",
    "    Compare the results with the variances from the previous step. You may try increase\n",
    "    or decrease $R$ to see how the comparison changes.\n",
    "\n"
   ]
  },
  {
   "cell_type": "code",
   "execution_count": 17,
   "metadata": {},
   "outputs": [],
   "source": [
    "n, p = 100, 7\n",
    "mu = np.zeros(p)\n",
    "rho = 0.5\n",
    "Sigma = np.zeros((p, p))\n",
    "for i in range(p):\n",
    "    for j in range(p):\n",
    "        Sigma[i, j] = (i+1) * (j+1) * rho ** abs(i - j)"
   ]
  }
 ],
 "metadata": {
  "kernelspec": {
   "display_name": "Python 3 (ipykernel)",
   "language": "python",
   "name": "python3"
  },
  "language_info": {
   "codemirror_mode": {
    "name": "ipython",
    "version": 3
   },
   "file_extension": ".py",
   "mimetype": "text/x-python",
   "name": "python",
   "nbconvert_exporter": "python",
   "pygments_lexer": "ipython3",
   "version": "3.12.8"
  },
  "org": null
 },
 "nbformat": 4,
 "nbformat_minor": 4
}
