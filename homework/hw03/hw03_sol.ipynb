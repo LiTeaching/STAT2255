{
 "cells": [
  {
   "cell_type": "markdown",
   "metadata": {},
   "source": [
    "STAT 2255: Homework 03\n",
    "======================\n",
    "\n"
   ]
  },
  {
   "cell_type": "markdown",
   "metadata": {},
   "source": [
    "## Problem 1\n",
    "\n"
   ]
  },
  {
   "cell_type": "markdown",
   "metadata": {},
   "source": [
    "### (a) 15 pts\n",
    "\n"
   ]
  },
  {
   "cell_type": "markdown",
   "metadata": {},
   "source": [
    "Create a numpy array that consists of the first $n$ positive integers, i.e., 1,\n",
    "2, 3, &#x2026;, n, and calculate\n",
    "$$S=\\sqrt{\\sum_{i=1}^{n}\\frac{6}{i^2}}$$\n",
    "for $n=10^7$.\n",
    "Do the same by creating a List without using numpy, and compare the times of\n",
    "using the two approaches.\n",
    "\n"
   ]
  },
  {
   "cell_type": "code",
   "execution_count": 1,
   "metadata": {},
   "outputs": [
    {
     "name": "stdout",
     "output_type": "stream",
     "text": [
      "3.141592558096831\n",
      "Time used:  0.06729912757873535\n",
      "Time used:  0.44691014289855957\n"
     ]
    }
   ],
   "source": [
    "import numpy as np\n",
    "import time, math\n",
    "n = 10**7\n",
    "\n",
    "start = time.time()\n",
    "arr = np.arange(1, n+1)\n",
    "print(np.sqrt(np.sum(6 / arr**2)))\n",
    "print(\"Time used: \", time.time() - start)\n",
    "\n",
    "start = time.time()\n",
    "L = list(range(1, n+1))\n",
    "L1 = [6 / (x ** 2) for x in L]\n",
    "math.sqrt(sum(L1))\n",
    "print(\"Time used: \", time.time() - start)"
   ]
  },
  {
   "cell_type": "markdown",
   "metadata": {},
   "source": [
    "### (b) 15 pts\n",
    "\n"
   ]
  },
  {
   "cell_type": "markdown",
   "metadata": {},
   "source": [
    "For the array `arr3` created using the following code,\n",
    "\n"
   ]
  },
  {
   "cell_type": "code",
   "execution_count": 2,
   "metadata": {},
   "outputs": [],
   "source": [
    "np.random.seed(2255)\n",
    "arr3 = 4 * np.random.standard_normal(10)"
   ]
  },
  {
   "cell_type": "markdown",
   "metadata": {},
   "source": [
    "return the fractional parts as `f` and integral part as `h`. Convert `f` and `h`\n",
    "to arrays of floats32 and int32, respectively. Check the memory usage of `f` and\n",
    "`h`, and the arrays with the converted types. You can use `.nbytes` to check the\n",
    "memory useage, e.g., `f.nbytes`.\n",
    "\n"
   ]
  },
  {
   "cell_type": "code",
   "execution_count": 3,
   "metadata": {},
   "outputs": [
    {
     "name": "stdout",
     "output_type": "stream",
     "text": [
      "[ 0.44620036  0.72663964  0.94378582  0.85475987 -0.31598788  0.52501821\n",
      "  0.22479145  0.81553638 -0.8113339   0.2323483 ]\n",
      "80 80 40 40\n"
     ]
    }
   ],
   "source": [
    "f, h = np.modf(arr3)\n",
    "print(f)\n",
    "f_32 = f.astype(np.float32)\n",
    "h_32 = h.astype(np.int32)\n",
    "print(f.nbytes, h.nbytes, f_32.nbytes, h_32.nbytes)"
   ]
  },
  {
   "cell_type": "markdown",
   "metadata": {},
   "source": [
    "## Problem 2\n",
    "\n"
   ]
  },
  {
   "cell_type": "markdown",
   "metadata": {},
   "source": [
    "Use the same **data.csv** file in the previous homework for this problem.\n",
    "\n"
   ]
  },
  {
   "cell_type": "markdown",
   "metadata": {},
   "source": [
    "### (a) 5 pts\n",
    "\n"
   ]
  },
  {
   "cell_type": "markdown",
   "metadata": {},
   "source": [
    "The `genfromtxt` function from numpy can read data from the disk. Use it to read\n",
    "the data from **data.csv** to a variable `dat` and show the data type of its\n",
    "elements.\n",
    "\n"
   ]
  },
  {
   "cell_type": "code",
   "execution_count": 4,
   "metadata": {},
   "outputs": [
    {
     "data": {
      "text/plain": [
       "dtype('float64')"
      ]
     },
     "execution_count": 4,
     "metadata": {},
     "output_type": "execute_result"
    }
   ],
   "source": [
    "dat = np.genfromtxt('data.csv')\n",
    "dat.dtype"
   ]
  },
  {
   "cell_type": "markdown",
   "metadata": {},
   "source": [
    "### (b) 5 pts\n",
    "\n"
   ]
  },
  {
   "cell_type": "markdown",
   "metadata": {},
   "source": [
    "Create an numpy array `dat1` using the first 10 and last 53 elements of `dat`."
   ]
  },
  {
   "cell_type": "code",
   "execution_count": 5,
   "metadata": {},
   "outputs": [
    {
     "data": {
      "text/plain": [
       "array([1.99481643, 4.03537549, 4.40020905, 3.39779016, 5.54115129,\n",
       "       4.16097856, 4.1470556 , 3.13504154, 2.18810337, 6.26358593,\n",
       "       5.13101805, 4.25742578, 2.27809081, 3.67814695, 2.26326134,\n",
       "       4.55232344, 4.38656059, 3.42848759, 2.8808863 , 2.89811444,\n",
       "       2.63891705, 2.92433758, 4.29882373, 3.52627961, 2.45511137,\n",
       "       2.98525864, 3.1445444 , 5.11857156, 3.85823832, 2.74079499,\n",
       "       2.54121291, 3.39138421, 2.89681925, 4.00545117, 1.49084575,\n",
       "       3.22887692, 2.78585735, 2.18174929, 4.06393512, 4.24789188,\n",
       "       3.18271838, 3.89326462, 2.98155131, 4.73982186, 3.47011743,\n",
       "       3.70594027, 3.79289101, 4.40968881, 3.81994709, 3.88410645,\n",
       "       4.8394019 , 1.26591707, 4.59906115, 3.95111215, 0.54318772,\n",
       "       4.4095936 , 5.16892213, 2.76687134, 3.01359531, 3.73942551,\n",
       "       3.41735413, 5.1344182 , 4.36772034])"
      ]
     },
     "execution_count": 5,
     "metadata": {},
     "output_type": "execute_result"
    }
   ],
   "source": [
    "idx = np.arange(0, dat.size)\n",
    "dat1 = dat[(idx < 10) | (idx >= 47)]\n",
    "dat1"
   ]
  },
  {
   "cell_type": "code",
   "execution_count": 6,
   "metadata": {},
   "outputs": [
    {
     "data": {
      "text/plain": [
       "array([1.99481643, 4.03537549, 4.40020905, 3.39779016, 5.54115129,\n",
       "       4.16097856, 4.1470556 , 3.13504154, 2.18810337, 6.26358593,\n",
       "       5.13101805, 4.25742578, 2.27809081, 3.67814695, 2.26326134,\n",
       "       4.55232344, 4.38656059, 3.42848759, 2.8808863 , 2.89811444,\n",
       "       2.63891705, 2.92433758, 4.29882373, 3.52627961, 2.45511137,\n",
       "       2.98525864, 3.1445444 , 5.11857156, 3.85823832, 2.74079499,\n",
       "       2.54121291, 3.39138421, 2.89681925, 4.00545117, 1.49084575,\n",
       "       3.22887692, 2.78585735, 2.18174929, 4.06393512, 4.24789188,\n",
       "       3.18271838, 3.89326462, 2.98155131, 4.73982186, 3.47011743,\n",
       "       3.70594027, 3.79289101, 4.40968881, 3.81994709, 3.88410645,\n",
       "       4.8394019 , 1.26591707, 4.59906115, 3.95111215, 0.54318772,\n",
       "       4.4095936 , 5.16892213, 2.76687134, 3.01359531, 3.73942551,\n",
       "       3.41735413, 5.1344182 , 4.36772034])"
      ]
     },
     "execution_count": 6,
     "metadata": {},
     "output_type": "execute_result"
    }
   ],
   "source": [
    "n = len(dat)\n",
    "np.concatenate((dat[0:10], dat[n-53:n]))"
   ]
  },
  {
   "cell_type": "markdown",
   "metadata": {},
   "source": [
    "### (c) 5 pts\n",
    "\n"
   ]
  },
  {
   "cell_type": "markdown",
   "metadata": {},
   "source": [
    "Reshape `dat1` to a matrix of 7 rows and 9 columns. Calculate the column sum\n",
    "and the row sum, and the sum of all elements.\n",
    "\n"
   ]
  },
  {
   "cell_type": "code",
   "execution_count": 7,
   "metadata": {},
   "outputs": [
    {
     "name": "stdout",
     "output_type": "stream",
     "text": [
      "[23.29284556 26.3069802  27.67989292 21.97614177 26.98992633 25.31943079\n",
      " 22.82476409 26.47100773 23.7789622 ]\n",
      "[33.00052149 36.23890048 27.75227312 29.27219508 31.54690725 34.26806589\n",
      " 32.56108828]\n",
      "224.63995159347857\n"
     ]
    }
   ],
   "source": [
    "datm = dat1.reshape((7, 9))\n",
    "print(datm.sum(axis=0))\n",
    "print(datm.sum(axis=1))\n",
    "print(datm.sum(axis=(0, 1)))"
   ]
  },
  {
   "cell_type": "markdown",
   "metadata": {},
   "source": [
    "### (d) 5 pts\n",
    "\n"
   ]
  },
  {
   "cell_type": "markdown",
   "metadata": {},
   "source": [
    "Replace the elements in `datm` that are larger than 3 by 3 and the elements\n",
    "smaller than 1 by 0.\n",
    "\n"
   ]
  },
  {
   "cell_type": "code",
   "execution_count": 8,
   "metadata": {},
   "outputs": [
    {
     "data": {
      "text/plain": [
       "array([[1.99481643, 3.        , 3.        , 3.        , 3.        ,\n",
       "        3.        , 3.        , 3.        , 2.18810337],\n",
       "       [3.        , 3.        , 3.        , 2.27809081, 3.        ,\n",
       "        2.26326134, 3.        , 3.        , 3.        ],\n",
       "       [2.8808863 , 2.89811444, 2.63891705, 2.92433758, 3.        ,\n",
       "        3.        , 2.45511137, 2.98525864, 3.        ],\n",
       "       [3.        , 3.        , 2.74079499, 2.54121291, 3.        ,\n",
       "        2.89681925, 3.        , 1.49084575, 3.        ],\n",
       "       [2.78585735, 2.18174929, 3.        , 3.        , 3.        ,\n",
       "        3.        , 2.98155131, 3.        , 3.        ],\n",
       "       [3.        , 3.        , 3.        , 3.        , 3.        ,\n",
       "        3.        , 1.26591707, 3.        , 3.        ],\n",
       "       [0.        , 3.        , 3.        , 2.76687134, 3.        ,\n",
       "        3.        , 3.        , 3.        , 3.        ]])"
      ]
     },
     "execution_count": 8,
     "metadata": {},
     "output_type": "execute_result"
    }
   ],
   "source": [
    "datm[datm > 3] = 3\n",
    "datm[datm < 1] = 0\n",
    "datm"
   ]
  },
  {
   "cell_type": "markdown",
   "metadata": {},
   "source": [
    "### (e) 5 pts\n",
    "\n"
   ]
  },
  {
   "cell_type": "markdown",
   "metadata": {},
   "source": [
    "What is the number of elements in `datm` from the previous problem that have\n",
    "zero reminder.\n",
    "\n"
   ]
  },
  {
   "cell_type": "code",
   "execution_count": 9,
   "metadata": {},
   "outputs": [
    {
     "data": {
      "text/plain": [
       "44"
      ]
     },
     "execution_count": 9,
     "metadata": {},
     "output_type": "execute_result"
    }
   ],
   "source": [
    "(np.modf(datm)[0] == 0).sum()"
   ]
  },
  {
   "cell_type": "markdown",
   "metadata": {},
   "source": [
    "### (f) 10 pts\n",
    "\n"
   ]
  },
  {
   "cell_type": "markdown",
   "metadata": {},
   "source": [
    "Let $X$ be the matrix consisting of the first 7 columns of `datm` and $Y$ be the\n",
    "matrix consisting of the last 2 columns of `datm`. Calculate\n",
    "$X^{-1}Y$.\n",
    "\n"
   ]
  },
  {
   "cell_type": "code",
   "execution_count": 10,
   "metadata": {},
   "outputs": [
    {
     "data": {
      "text/plain": [
       "array([[-0.48020932, -0.21989334],\n",
       "       [-0.4579646 , -1.19138552],\n",
       "       [-1.44930918, -1.2175685 ],\n",
       "       [ 4.10901628, -1.60104635],\n",
       "       [ 4.07741747,  5.3144577 ],\n",
       "       [-4.68149062,  0.16678951],\n",
       "       [-0.27835954, -0.59566344]])"
      ]
     },
     "execution_count": 10,
     "metadata": {},
     "output_type": "execute_result"
    }
   ],
   "source": [
    "X = datm[:,0:7]\n",
    "Y = datm[:,7:]\n",
    "np.linalg.inv(X) @ Y"
   ]
  },
  {
   "cell_type": "markdown",
   "metadata": {},
   "source": [
    "### (g) 10 pts\n",
    "\n"
   ]
  },
  {
   "cell_type": "markdown",
   "metadata": {},
   "source": [
    "For the `X` and `error` created with the following code,\n",
    "\n"
   ]
  },
  {
   "cell_type": "code",
   "execution_count": 11,
   "metadata": {},
   "outputs": [],
   "source": [
    "np.random.seed(2255)\n",
    "n, p = 1000, 7\n",
    "X = np.random.standard_normal((n, p))\n",
    "error = np.random.standard_normal(n)"
   ]
  },
  {
   "cell_type": "markdown",
   "metadata": {},
   "source": [
    "create $Y$ from equation\n",
    "$$Y = X \\beta + error$$\n",
    "where $\\beta=(1, 1, 2, 3, 2, 1, 1)'$. Calculate the least squares estimator of\n",
    "$\\beta$ defined as\n",
    "$$b=(X'X)^{-1}X'Y$$\n",
    "\n"
   ]
  },
  {
   "cell_type": "code",
   "execution_count": 12,
   "metadata": {},
   "outputs": [
    {
     "data": {
      "text/plain": [
       "array([1.0363174 , 0.96346003, 2.00324042, 3.04953088, 1.99688085,\n",
       "       0.9947966 , 0.99267029])"
      ]
     },
     "execution_count": 12,
     "metadata": {},
     "output_type": "execute_result"
    }
   ],
   "source": [
    "beta = np.array([1, 1, 2, 3, 2, 1, 1])\n",
    "Y = X @ beta + error\n",
    "b = np.linalg.inv(X.T @ X) @ (X.T @ Y)\n",
    "b"
   ]
  },
  {
   "cell_type": "markdown",
   "metadata": {},
   "source": [
    "### (h) 25 pts\n",
    "\n"
   ]
  },
  {
   "cell_type": "markdown",
   "metadata": {},
   "source": [
    "Repeat the least squares simulation in the previous step for $R=1000$ times. At\n",
    "each repetition, generate a new `X`, `error`, and `Y`, but generate `X` with\n",
    "`np.random.multivariate_normal(mu, Sigma, n)`, where `mu` and `Sigma` are\n",
    "created with the following code. Calculate the least\n",
    "squares estimates for all repetitions and save them as rows of an array `result` with $R$\n",
    "rows and 7 columns.\n",
    "\n",
    "1.  Calculate the variances for the 7 columns of `result`. This is using a\n",
    "    simulation to estimate the variance of the least squares estimator. Remember\n",
    "    to set the random seed with `np.random.seed(2255)` in the beginning of the\n",
    "    code.\n",
    "2.  Obtain the diagonal elements the inverse of `Sigma` divided by $n$, i.e.,\n",
    "    $$\\frac{\\text{Sigma}^{-1}}{n}.$$\n",
    "    Compare the results with the variances from the previous step. You may try increase\n",
    "    or decrease $R$ to see how the comparison changes.\n",
    "\n"
   ]
  },
  {
   "cell_type": "code",
   "execution_count": 13,
   "metadata": {},
   "outputs": [],
   "source": [
    "n, p = 100, 7\n",
    "mu = np.zeros(p)\n",
    "rho = 0.5\n",
    "Sigma = np.zeros((p, p))\n",
    "for i in range(p):\n",
    "    for j in range(p):\n",
    "        Sigma[i, j] = (i+1) * (j+1) * rho ** abs(i - j)"
   ]
  },
  {
   "cell_type": "code",
   "execution_count": 14,
   "metadata": {},
   "outputs": [
    {
     "name": "stdout",
     "output_type": "stream",
     "text": [
      "[0.0150301  0.00422679 0.00211938 0.00111068 0.00074947 0.00052019\n",
      " 0.00028323]\n"
     ]
    },
    {
     "data": {
      "text/plain": [
       "array([0.01333333, 0.00416667, 0.00185185, 0.00104167, 0.00066667,\n",
       "       0.00046296, 0.00027211])"
      ]
     },
     "execution_count": 14,
     "metadata": {},
     "output_type": "execute_result"
    }
   ],
   "source": [
    "np.random.seed(2255)\n",
    "beta = np.array([1, 1, 2, 3, 2, 1, 1])\n",
    "R = 1000\n",
    "result = np.empty((R, p))\n",
    "\n",
    "for r in range(0, R):\n",
    "    error = np.random.standard_normal(n)\n",
    "    X = np.random.multivariate_normal(mu, Sigma, n)\n",
    "    Y = X @ beta + error\n",
    "    b = np.linalg.inv(X.T @ X) @ (X.T @ Y)\n",
    "    result[r] = b\n",
    "\n",
    "print(result.var(axis=0))\n",
    "\n",
    "np.diag(np.linalg.inv(Sigma)) / n"
   ]
  }
 ],
 "metadata": {
  "kernelspec": {
   "display_name": "Python 3 (ipykernel)",
   "language": "python",
   "name": "python3"
  },
  "language_info": {
   "codemirror_mode": {
    "name": "ipython",
    "version": 3
   },
   "file_extension": ".py",
   "mimetype": "text/x-python",
   "name": "python",
   "nbconvert_exporter": "python",
   "pygments_lexer": "ipython3",
   "version": "3.12.8"
  },
  "org": null
 },
 "nbformat": 4,
 "nbformat_minor": 4
}
