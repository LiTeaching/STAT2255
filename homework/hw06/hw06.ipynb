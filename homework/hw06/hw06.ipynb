{
 "cells": [
  {
   "cell_type": "markdown",
   "metadata": {},
   "source": [
    "STAT 2255: Homework 06\n",
    "======================\n",
    "\n"
   ]
  },
  {
   "cell_type": "markdown",
   "metadata": {},
   "source": [
    "## Problem 1"
   ]
  },
  {
   "cell_type": "markdown",
   "metadata": {},
   "source": [
    "In the previous homework, we have seen the standard Cauchy distribution\n",
    "with the following pdf (f):\n",
    "\n",
    "$$f(x) = \\frac{1}{\\pi(1+x^2)}, \\text{ for }  x\\in \\mathbb{R}.$$\n",
    "\n",
    "The distribution function (F) of Cauchy distribution is given by:\n",
    "\n",
    "$$F(x) = \\frac{1}{2}+\\frac{1}{\\pi}arc tan\\left(x\\right).$$\n",
    "\n"
   ]
  },
  {
   "cell_type": "markdown",
   "metadata": {},
   "source": [
    "### part 1  \n",
    "\n"
   ]
  },
  {
   "cell_type": "markdown",
   "metadata": {},
   "source": [
    "Using the distribution function given above, code its inverse\n",
    "function $F^{-1}(u)$ and test it with `u` taking values of the list `[0, 0.25,\n",
    "0.5, 0.75, 1]`.\n",
    "\n",
    "$$F^{-1}(u)=tan(\\pi(u-0.5))$$\n",
    "\n"
   ]
  },
  {
   "cell_type": "markdown",
   "metadata": {},
   "source": [
    "### part 2  \n",
    "\n"
   ]
  },
  {
   "cell_type": "markdown",
   "metadata": {},
   "source": [
    "Using the inversion method we covered in the class, and assuming we can\n",
    "generate $U\\sim Uniform(0,1)$ (use `random.uniform()` from `numpy`),\n",
    "write a function `random_cauchy` that generate random variable from the\n",
    "standard Cauchy distribution. Set `np.random.seed(2255)` and run your function.\n",
    "\n",
    "**Note**: 1. Your function does not have to have an input, but it needs to\n",
    "return a standard Cauchy random variable as output. 2. In your function,\n",
    "you should not use any form of random.cauchy function from other\n",
    "package. But you are welcome to use them to check if your function is\n",
    "correct.\n",
    "\n"
   ]
  }
 ],
 "metadata": {
  "kernelspec": {
   "display_name": "Python 3 (ipykernel)",
   "language": "python",
   "name": "python3"
  },
  "language_info": {
   "codemirror_mode": {
    "name": "ipython",
    "version": 3
   },
   "file_extension": ".py",
   "mimetype": "text/x-python",
   "name": "python",
   "nbconvert_exporter": "python",
   "pygments_lexer": "ipython3",
   "version": "3.12.8"
  },
  "org": null
 },
 "nbformat": 4,
 "nbformat_minor": 4
}
