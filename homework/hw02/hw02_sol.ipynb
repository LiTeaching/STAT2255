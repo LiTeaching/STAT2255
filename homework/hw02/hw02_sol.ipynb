{
 "cells": [
  {
   "cell_type": "markdown",
   "metadata": {},
   "source": [
    "STAT 2255: Homework 02\n",
    "======================\n",
    "\n"
   ]
  },
  {
   "cell_type": "markdown",
   "metadata": {},
   "source": [
    "## Problem 1\n",
    "\n"
   ]
  },
  {
   "cell_type": "markdown",
   "metadata": {},
   "source": [
    "Data sets are frequently provided as a CSV file. We want to \"open\" that\n",
    "file in our script and put the data in a Python list. The function\n",
    "`open()` gives you a file object. **Make sure that you download the\n",
    "data.csv file to the same folder of the hw02.ipynb file**.\n",
    "\n"
   ]
  },
  {
   "cell_type": "code",
   "execution_count": 1,
   "metadata": {},
   "outputs": [],
   "source": [
    "f = open('data.csv')"
   ]
  },
  {
   "cell_type": "markdown",
   "metadata": {},
   "source": [
    "There are all sorts of methods you can give to files.\n",
    "\n",
    "-   `f.close()` - Closes the file. Just like **File -> Save**.\n",
    "-   `f.read()` - Reads the contents of the file. You can assign the result\n",
    "    to a variable.\n",
    "-   `f.readline()` - Reads just one line of a text file.\n",
    "-   `f.write(stuff)` - Writes stuff to the file.\n",
    "\n",
    "These are the important methods you need to know for now. Some of them\n",
    "take parameters, but we don't really care about that.\n",
    "\n"
   ]
  },
  {
   "cell_type": "markdown",
   "metadata": {},
   "source": [
    "### (a) 10 pts\n",
    "\n"
   ]
  },
  {
   "cell_type": "markdown",
   "metadata": {},
   "source": [
    "Open the **data.csv** file, read the contents, and assign it to a variable\n",
    "called **contents**. Type **contents** to see what is the output.\n",
    "\n"
   ]
  },
  {
   "cell_type": "code",
   "execution_count": 2,
   "metadata": {},
   "outputs": [
    {
     "data": {
      "text/plain": [
       "'1.994816432881608259e+00\\n4.035375486456615590e+00\\n4.400209047415358121e+00\\n3.397790158086722911e+00\\n5.541151292980220688e+00\\n4.160978558403738425e+00\\n4.147055599627355704e+00\\n3.135041542108015555e+00\\n2.188103372312489192e+00\\n6.263585931720361266e+00\\n3.416043431085391546e+00\\n2.495578141631070945e+00\\n3.498207422963989455e+00\\n3.019359045918525997e+00\\n2.718846390611348696e+00\\n2.831422848165935147e+00\\n3.400358485446288714e+00\\n2.547282548533665647e+00\\n3.791567338725883030e+00\\n4.408759265264634131e+00\\n2.857826257626183697e+00\\n3.921720663918100591e+00\\n2.289411512951915029e+00\\n3.364066922499548529e+00\\n4.808685302086379565e+00\\n2.341982812027070704e+00\\n5.857462077903816677e+00\\n2.393618089923000625e+00\\n2.901777459336342346e+00\\n3.461796684117646627e+00\\n3.514494503320346741e+00\\n2.926807968212693289e+00\\n3.996946832680434714e+00\\n4.198953789609391585e+00\\n5.032613450547623657e+00\\n5.044971997092282834e+00\\n2.839492038528621976e+00\\n3.728341905367657638e+00\\n4.168205516373447495e+00\\n4.834681390868374784e+00\\n4.788536589812482092e+00\\n5.465606921946683627e+00\\n5.244617718949200480e+00\\n4.497264116836312553e+00\\n4.406844858504528339e+00\\n1.226860113003352293e+00\\n2.796120228116835804e+00\\n5.131018052716704858e+00\\n4.257425784633261046e+00\\n2.278090806689577086e+00\\n3.678146950367703116e+00\\n2.263261335088114556e+00\\n4.552323438951400902e+00\\n4.386560587315488036e+00\\n3.428487588510281459e+00\\n2.880886304070788384e+00\\n2.898114437883830163e+00\\n2.638917046584129178e+00\\n2.924337580622335953e+00\\n4.298823731359672884e+00\\n3.526279611634520084e+00\\n2.455111370047255548e+00\\n2.985258638032953105e+00\\n3.144544398372252303e+00\\n5.118571558651110465e+00\\n3.858238321201715504e+00\\n2.740794985751130675e+00\\n2.541212906152820139e+00\\n3.391384209500926783e+00\\n2.896819250955553482e+00\\n4.005451173087982042e+00\\n1.490845754030533321e+00\\n3.228876921558570423e+00\\n2.785857351803840753e+00\\n2.181749291826983850e+00\\n4.063935115379762486e+00\\n4.247891884508786298e+00\\n3.182718381318005108e+00\\n3.893264624627173820e+00\\n2.981551306230567633e+00\\n4.739821859737452847e+00\\n3.470117434620965113e+00\\n3.705940266474340383e+00\\n3.792891005956818162e+00\\n4.409688809605254889e+00\\n3.819947091827864849e+00\\n3.884106448428193747e+00\\n4.839401899694106390e+00\\n1.265917071828720264e+00\\n4.599061152092572158e+00\\n3.951112147333044611e+00\\n5.431877182327760067e-01\\n4.409593603142423213e+00\\n5.168922127922074949e+00\\n2.766871342090116759e+00\\n3.013595311765833173e+00\\n3.739425513441535287e+00\\n3.417354126969269767e+00\\n5.134418200682631550e+00\\n4.367720340174322757e+00\\n'"
      ]
     },
     "execution_count": 2,
     "metadata": {},
     "output_type": "execute_result"
    }
   ],
   "source": [
    "f = open('data.csv')\n",
    "contents = f.read()\n",
    "contents"
   ]
  },
  {
   "cell_type": "markdown",
   "metadata": {},
   "source": [
    "What is the type of the variable?\n",
    "\n"
   ]
  },
  {
   "cell_type": "code",
   "execution_count": 3,
   "metadata": {},
   "outputs": [
    {
     "data": {
      "text/plain": [
       "str"
      ]
     },
     "execution_count": 3,
     "metadata": {},
     "output_type": "execute_result"
    }
   ],
   "source": [
    "type(contents)"
   ]
  },
  {
   "cell_type": "markdown",
   "metadata": {},
   "source": [
    "### (b) 10 pts\n",
    "\n"
   ]
  },
  {
   "cell_type": "markdown",
   "metadata": {},
   "source": [
    "In a string, an escape character is a character that takes on an\n",
    "alternative meaning in a string. Many programming languages use the ⧵\n",
    "(backslash) as an escape character. For example, **⧵n** indicates new line\n",
    "(white spaces until next line), **⧵t** means tab, and so on.\n",
    "\n",
    "As we discussed in the lecture, we can apply the `.split()` function to\n",
    "**str** typed object to split a string into a list of strings after\n",
    "breaking the given string by the specified delimiter. If the delimiter\n",
    "is not provided, any white space is a separator. Use the `.split()`\n",
    "method and print the returned list.\n",
    "\n"
   ]
  },
  {
   "cell_type": "code",
   "execution_count": 4,
   "metadata": {},
   "outputs": [
    {
     "data": {
      "text/plain": [
       "['1.994816432881608259e+00',\n",
       " '4.035375486456615590e+00',\n",
       " '4.400209047415358121e+00',\n",
       " '3.397790158086722911e+00',\n",
       " '5.541151292980220688e+00',\n",
       " '4.160978558403738425e+00',\n",
       " '4.147055599627355704e+00',\n",
       " '3.135041542108015555e+00',\n",
       " '2.188103372312489192e+00',\n",
       " '6.263585931720361266e+00',\n",
       " '3.416043431085391546e+00',\n",
       " '2.495578141631070945e+00',\n",
       " '3.498207422963989455e+00',\n",
       " '3.019359045918525997e+00',\n",
       " '2.718846390611348696e+00',\n",
       " '2.831422848165935147e+00',\n",
       " '3.400358485446288714e+00',\n",
       " '2.547282548533665647e+00',\n",
       " '3.791567338725883030e+00',\n",
       " '4.408759265264634131e+00',\n",
       " '2.857826257626183697e+00',\n",
       " '3.921720663918100591e+00',\n",
       " '2.289411512951915029e+00',\n",
       " '3.364066922499548529e+00',\n",
       " '4.808685302086379565e+00',\n",
       " '2.341982812027070704e+00',\n",
       " '5.857462077903816677e+00',\n",
       " '2.393618089923000625e+00',\n",
       " '2.901777459336342346e+00',\n",
       " '3.461796684117646627e+00',\n",
       " '3.514494503320346741e+00',\n",
       " '2.926807968212693289e+00',\n",
       " '3.996946832680434714e+00',\n",
       " '4.198953789609391585e+00',\n",
       " '5.032613450547623657e+00',\n",
       " '5.044971997092282834e+00',\n",
       " '2.839492038528621976e+00',\n",
       " '3.728341905367657638e+00',\n",
       " '4.168205516373447495e+00',\n",
       " '4.834681390868374784e+00',\n",
       " '4.788536589812482092e+00',\n",
       " '5.465606921946683627e+00',\n",
       " '5.244617718949200480e+00',\n",
       " '4.497264116836312553e+00',\n",
       " '4.406844858504528339e+00',\n",
       " '1.226860113003352293e+00',\n",
       " '2.796120228116835804e+00',\n",
       " '5.131018052716704858e+00',\n",
       " '4.257425784633261046e+00',\n",
       " '2.278090806689577086e+00',\n",
       " '3.678146950367703116e+00',\n",
       " '2.263261335088114556e+00',\n",
       " '4.552323438951400902e+00',\n",
       " '4.386560587315488036e+00',\n",
       " '3.428487588510281459e+00',\n",
       " '2.880886304070788384e+00',\n",
       " '2.898114437883830163e+00',\n",
       " '2.638917046584129178e+00',\n",
       " '2.924337580622335953e+00',\n",
       " '4.298823731359672884e+00',\n",
       " '3.526279611634520084e+00',\n",
       " '2.455111370047255548e+00',\n",
       " '2.985258638032953105e+00',\n",
       " '3.144544398372252303e+00',\n",
       " '5.118571558651110465e+00',\n",
       " '3.858238321201715504e+00',\n",
       " '2.740794985751130675e+00',\n",
       " '2.541212906152820139e+00',\n",
       " '3.391384209500926783e+00',\n",
       " '2.896819250955553482e+00',\n",
       " '4.005451173087982042e+00',\n",
       " '1.490845754030533321e+00',\n",
       " '3.228876921558570423e+00',\n",
       " '2.785857351803840753e+00',\n",
       " '2.181749291826983850e+00',\n",
       " '4.063935115379762486e+00',\n",
       " '4.247891884508786298e+00',\n",
       " '3.182718381318005108e+00',\n",
       " '3.893264624627173820e+00',\n",
       " '2.981551306230567633e+00',\n",
       " '4.739821859737452847e+00',\n",
       " '3.470117434620965113e+00',\n",
       " '3.705940266474340383e+00',\n",
       " '3.792891005956818162e+00',\n",
       " '4.409688809605254889e+00',\n",
       " '3.819947091827864849e+00',\n",
       " '3.884106448428193747e+00',\n",
       " '4.839401899694106390e+00',\n",
       " '1.265917071828720264e+00',\n",
       " '4.599061152092572158e+00',\n",
       " '3.951112147333044611e+00',\n",
       " '5.431877182327760067e-01',\n",
       " '4.409593603142423213e+00',\n",
       " '5.168922127922074949e+00',\n",
       " '2.766871342090116759e+00',\n",
       " '3.013595311765833173e+00',\n",
       " '3.739425513441535287e+00',\n",
       " '3.417354126969269767e+00',\n",
       " '5.134418200682631550e+00',\n",
       " '4.367720340174322757e+00']"
      ]
     },
     "execution_count": 4,
     "metadata": {},
     "output_type": "execute_result"
    }
   ],
   "source": [
    "clist = contents.split()\n",
    "clist"
   ]
  },
  {
   "cell_type": "markdown",
   "metadata": {},
   "source": [
    "### (c) 10 pts\n",
    "\n"
   ]
  },
  {
   "cell_type": "markdown",
   "metadata": {},
   "source": [
    "We've imported the CSV file into Python as a list, but the values are\n",
    "strings, not floats. We can coerce a variable to a specific type (not\n",
    "always). For example, `fake_pi = '3.141592'` is a string, but it can be\n",
    "coerced to a float by running `real_pi = float(fake_pi)` . Use the\n",
    "`float()` function in a list comprehension to coerce all elements to\n",
    "floats.\n",
    "\n"
   ]
  },
  {
   "cell_type": "code",
   "execution_count": 5,
   "metadata": {},
   "outputs": [
    {
     "data": {
      "text/plain": [
       "[1.9948164328816083,\n",
       " 4.035375486456616,\n",
       " 4.400209047415358,\n",
       " 3.397790158086723,\n",
       " 5.541151292980221,\n",
       " 4.160978558403738,\n",
       " 4.147055599627356,\n",
       " 3.1350415421080156,\n",
       " 2.188103372312489,\n",
       " 6.263585931720361,\n",
       " 3.4160434310853915,\n",
       " 2.495578141631071,\n",
       " 3.4982074229639895,\n",
       " 3.019359045918526,\n",
       " 2.7188463906113487,\n",
       " 2.831422848165935,\n",
       " 3.4003584854462887,\n",
       " 2.5472825485336656,\n",
       " 3.791567338725883,\n",
       " 4.408759265264634,\n",
       " 2.8578262576261837,\n",
       " 3.9217206639181006,\n",
       " 2.289411512951915,\n",
       " 3.3640669224995485,\n",
       " 4.80868530208638,\n",
       " 2.3419828120270707,\n",
       " 5.857462077903817,\n",
       " 2.3936180899230006,\n",
       " 2.9017774593363423,\n",
       " 3.4617966841176466,\n",
       " 3.5144945033203467,\n",
       " 2.9268079682126933,\n",
       " 3.9969468326804347,\n",
       " 4.198953789609392,\n",
       " 5.032613450547624,\n",
       " 5.044971997092283,\n",
       " 2.839492038528622,\n",
       " 3.7283419053676576,\n",
       " 4.1682055163734475,\n",
       " 4.834681390868375,\n",
       " 4.788536589812482,\n",
       " 5.465606921946684,\n",
       " 5.2446177189492005,\n",
       " 4.4972641168363126,\n",
       " 4.406844858504528,\n",
       " 1.2268601130033523,\n",
       " 2.796120228116836,\n",
       " 5.131018052716705,\n",
       " 4.257425784633261,\n",
       " 2.278090806689577,\n",
       " 3.678146950367703,\n",
       " 2.2632613350881146,\n",
       " 4.552323438951401,\n",
       " 4.386560587315488,\n",
       " 3.4284875885102815,\n",
       " 2.8808863040707884,\n",
       " 2.89811443788383,\n",
       " 2.638917046584129,\n",
       " 2.924337580622336,\n",
       " 4.298823731359673,\n",
       " 3.52627961163452,\n",
       " 2.4551113700472555,\n",
       " 2.985258638032953,\n",
       " 3.1445443983722523,\n",
       " 5.1185715586511105,\n",
       " 3.8582383212017155,\n",
       " 2.7407949857511307,\n",
       " 2.54121290615282,\n",
       " 3.391384209500927,\n",
       " 2.8968192509555535,\n",
       " 4.005451173087982,\n",
       " 1.4908457540305333,\n",
       " 3.2288769215585704,\n",
       " 2.7858573518038408,\n",
       " 2.181749291826984,\n",
       " 4.0639351153797625,\n",
       " 4.247891884508786,\n",
       " 3.182718381318005,\n",
       " 3.893264624627174,\n",
       " 2.9815513062305676,\n",
       " 4.739821859737453,\n",
       " 3.470117434620965,\n",
       " 3.7059402664743404,\n",
       " 3.792891005956818,\n",
       " 4.409688809605255,\n",
       " 3.819947091827865,\n",
       " 3.8841064484281937,\n",
       " 4.839401899694106,\n",
       " 1.2659170718287203,\n",
       " 4.599061152092572,\n",
       " 3.9511121473330446,\n",
       " 0.543187718232776,\n",
       " 4.409593603142423,\n",
       " 5.168922127922075,\n",
       " 2.7668713420901168,\n",
       " 3.013595311765833,\n",
       " 3.7394255134415353,\n",
       " 3.4173541269692698,\n",
       " 5.1344182006826316,\n",
       " 4.367720340174323]"
      ]
     },
     "execution_count": 5,
     "metadata": {},
     "output_type": "execute_result"
    }
   ],
   "source": [
    "[float(item) for item in clist]"
   ]
  },
  {
   "cell_type": "markdown",
   "metadata": {},
   "source": [
    "## Problem 2\n",
    "\n"
   ]
  },
  {
   "cell_type": "markdown",
   "metadata": {},
   "source": [
    "Create the following lists that you will use for testing your functions:\n",
    "\n"
   ]
  },
  {
   "cell_type": "code",
   "execution_count": 6,
   "metadata": {},
   "outputs": [],
   "source": [
    "L1 = [2, 2, 5, 5]\n",
    "L2 = [2, 2, 5, 6, 9]\n",
    "L3 = [1, 2, 2, 3]\n",
    "L4 = [1, 3, 3, 4, 4, 5, 5]\n",
    "L = [L1, L2, L3, L4]"
   ]
  },
  {
   "cell_type": "markdown",
   "metadata": {},
   "source": [
    "### (a) 15 pts\n",
    "\n"
   ]
  },
  {
   "cell_type": "markdown",
   "metadata": {},
   "source": [
    "Write a function called `my_mean` that takes a list of numbers as input\n",
    "and return their mean (Do not import any module). Test it with `L1-L4`.\n",
    "\n"
   ]
  },
  {
   "cell_type": "code",
   "execution_count": 7,
   "metadata": {},
   "outputs": [
    {
     "name": "stdout",
     "output_type": "stream",
     "text": [
      "The result for L1 is: 3.5\n",
      "The result for L2 is: 4.8\n",
      "The result for L3 is: 2.0\n",
      "The result for L4 is: 3.5714285714285716\n"
     ]
    }
   ],
   "source": [
    "def my_mean(x):\n",
    "    s = 0\n",
    "    for i in x:\n",
    "        s += i\n",
    "    return s / len(x)\n",
    "\n",
    "for i in range(1, len(L)+1):\n",
    "    print(\"The result for L\" + str(i) + \" is:\", my_mean(L[i-1]))"
   ]
  },
  {
   "cell_type": "markdown",
   "metadata": {},
   "source": [
    "### (b) 20 pts\n",
    "\n"
   ]
  },
  {
   "cell_type": "markdown",
   "metadata": {},
   "source": [
    "Write a function called `my_median` that takes a list of numbers as\n",
    "input and return their median (Do not import any module). Test it with\n",
    "`L1-L4`.\n",
    "\n"
   ]
  },
  {
   "cell_type": "code",
   "execution_count": 8,
   "metadata": {},
   "outputs": [
    {
     "name": "stdout",
     "output_type": "stream",
     "text": [
      "The result for L1 is: 3.5\n",
      "The result for L2 is: 5\n",
      "The result for L3 is: 2.0\n",
      "The result for L4 is: 4\n"
     ]
    }
   ],
   "source": [
    "def my_median(x):\n",
    "    l = len(x)\n",
    "    xs = sorted(x)\n",
    "    idx = l // 2\n",
    "    if l % 2 ==0:\n",
    "        return (xs[idx] + xs[idx-1]) / 2 \n",
    "    else:\n",
    "        return xs[idx]\n",
    "\n",
    "for i in range(1, len(L)+1):\n",
    "    print(\"The result for L\" + str(i) + \" is:\", my_median(L[i-1]))"
   ]
  },
  {
   "cell_type": "markdown",
   "metadata": {},
   "source": [
    "### (c) 20 pts\n",
    "\n"
   ]
  },
  {
   "cell_type": "markdown",
   "metadata": {},
   "source": [
    "Write a function called `my_mode` that takes a list of numbers as input\n",
    "and return their mode. In the case of multiple modes, return the\n",
    "smallest among them (Do not import any module). Test it with `L1-L4`.\n",
    "\n"
   ]
  },
  {
   "cell_type": "code",
   "execution_count": 9,
   "metadata": {},
   "outputs": [
    {
     "name": "stdout",
     "output_type": "stream",
     "text": [
      "The result for L1 is: 2\n",
      "The result for L2 is: 2\n",
      "The result for L3 is: 2\n",
      "The result for L4 is: 3\n"
     ]
    }
   ],
   "source": [
    "def my_mode(x):\n",
    "    if len(x) == 0:\n",
    "        return None\n",
    "    D = {}\n",
    "    for i in x:\n",
    "        if i in D:\n",
    "            D[i] += 1\n",
    "        else:\n",
    "            D[i] = 1\n",
    "    m = max(D.values())\n",
    "    modes = [i for i in D.keys() if D[i] == m]\n",
    "    return min(modes)\n",
    "\n",
    "for i in range(1, len(L)+1):\n",
    "    print(\"The result for L\" + str(i) + \" is:\", my_mode(L[i-1]))"
   ]
  },
  {
   "cell_type": "markdown",
   "metadata": {},
   "source": [
    "### (d) 15 pts\n",
    "\n"
   ]
  },
  {
   "cell_type": "markdown",
   "metadata": {},
   "source": [
    "Use the functions in the previous part, write a function called\n",
    "`my_stat` that takes a list of numbers as input and return a dictionary\n",
    "with key:value pairs corresponding to the mean, median, mode of the\n",
    "input list (Do not import any module). Test it with `L1-L4`.\n",
    "\n"
   ]
  },
  {
   "cell_type": "code",
   "execution_count": 10,
   "metadata": {},
   "outputs": [
    {
     "name": "stdout",
     "output_type": "stream",
     "text": [
      "The result for L1 is: {'mean': 3.5, 'median': 3.5, 'mode': 2}\n",
      "The result for L2 is: {'mean': 4.8, 'median': 5, 'mode': 2}\n",
      "The result for L3 is: {'mean': 2.0, 'median': 2.0, 'mode': 2}\n",
      "The result for L4 is: {'mean': 3.5714285714285716, 'median': 4, 'mode': 3}\n"
     ]
    }
   ],
   "source": [
    "def my_stat(x):\n",
    "    D = {}\n",
    "    D['mean'] = my_mean(x)\n",
    "    D['median'] = my_median(x)\n",
    "    D['mode'] = my_mode(x)\n",
    "    return D\n",
    "\n",
    "for i in range(1, len(L)+1):\n",
    "    print(\"The result for L\" + str(i) + \" is:\", my_stat(L[i-1]))"
   ]
  },
  {
   "cell_type": "code",
   "execution_count": null,
   "metadata": {},
   "outputs": [],
   "source": []
  }
 ],
 "metadata": {
  "kernelspec": {
   "display_name": "Python 3 (ipykernel)",
   "language": "python",
   "name": "python3"
  },
  "language_info": {
   "codemirror_mode": {
    "name": "ipython",
    "version": 3
   },
   "file_extension": ".py",
   "mimetype": "text/x-python",
   "name": "python",
   "nbconvert_exporter": "python",
   "pygments_lexer": "ipython3",
   "version": "3.12.8"
  },
  "org": null
 },
 "nbformat": 4,
 "nbformat_minor": 4
}
