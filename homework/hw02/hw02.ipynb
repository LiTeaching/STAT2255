{
 "cells": [
  {
   "cell_type": "markdown",
   "metadata": {},
   "source": [
    "# Homework 2"
   ]
  },
  {
   "attachments": {},
   "cell_type": "markdown",
   "metadata": {},
   "source": [
    "# Problem 1\n",
    "\n",
    "Data sets are frequently provided as a CSV file. We want to \"open\" that file in our script and put the data in a Python list. The function ```open()``` gives you a file object. **Make sure that you download the data.csv file to the same folder of the hw02.ipynb file**.\n",
    "\n",
    "```python\n",
    "f = open('data.csv')\n",
    "```\n",
    "\n",
    "There are all sorts of methods you can give to files.\n",
    "* ```f.close()``` - Closes the file. Just like **File -> Save**.\n",
    "* ```f.read()``` - Reads the contents of the file. You can assign the result to a variable.\n",
    "* ```f.readline()``` - Reads just one line of a text file.\n",
    "* ```f.write(stuff)``` - Writes stuff to the file.\n",
    "\n",
    "These are the important methods you need to know for now. Some of them take parameters, but we don't really care about that."
   ]
  },
  {
   "cell_type": "markdown",
   "metadata": {},
   "source": [
    "## (a) 10 pts\n",
    "\n",
    "Open the **data.csv** file, read the contents, and assign it to a variable called **contents**. Type **contents** to see what is the output.\n"
   ]
  },
  {
   "cell_type": "code",
   "execution_count": null,
   "metadata": {},
   "outputs": [],
   "source": []
  },
  {
   "cell_type": "markdown",
   "metadata": {},
   "source": [
    "What is the type of the variable?"
   ]
  },
  {
   "cell_type": "code",
   "execution_count": null,
   "metadata": {},
   "outputs": [],
   "source": []
  },
  {
   "cell_type": "markdown",
   "metadata": {},
   "source": [
    "## (b)  10 pts\n",
    "\n",
    "In a string, an escape character is a character that takes on an alternative meaning in a string. Many\n",
    "programming languages use the ⧵ (backslash) as an escape character. For example, **⧵n**\n",
    "indicates new line (white spaces until next line), **⧵t** means tab, and so on.\n",
    "\n",
    "As we discussed in the lecture, we can apply the ```.split()``` function to **str** typed object to split a string into a list of strings after breaking the given string by the specified delimiter. If the delimiter is not provided, any white space is a separator. Use the ```.split()``` method and print the returned list."
   ]
  },
  {
   "cell_type": "code",
   "execution_count": null,
   "metadata": {},
   "outputs": [],
   "source": []
  },
  {
   "attachments": {},
   "cell_type": "markdown",
   "metadata": {},
   "source": [
    "## (c)  10 pts\n",
    "\n",
    "We've imported the CSV file into Python as a list, but the values are strings, not floats. We can coerce a variable to a specific type (not always). For example, ```fake_pi = '3.141592'``` is a string, but it can be coerced to a float by running ```real_pi = float(fake_pi)``` .\n",
    "Use the ```float()``` function in a list comprehension to coerce all elements to floats.\n",
    "<!-- \n",
    "Recall the list comprehension syntax\n",
    "```python\n",
    "['expression involving item' for item in List if condition == True]\n",
    "``` -->"
   ]
  },
  {
   "cell_type": "code",
   "execution_count": null,
   "metadata": {},
   "outputs": [],
   "source": []
  },
  {
   "cell_type": "markdown",
   "metadata": {},
   "source": [
    "# Problem 2\n",
    "Create the following lists that you will use for testing your functions:\n",
    "```python\n",
    "L1 = [2, 2, 5, 5]\n",
    "L2 = [2, 2, 5, 6, 9]\n",
    "L3 = [1, 2, 2, 3]\n",
    "L4 = [1, 3, 3, 4, 4, 5, 5]\n",
    "```"
   ]
  },
  {
   "cell_type": "code",
   "execution_count": null,
   "metadata": {},
   "outputs": [],
   "source": []
  },
  {
   "cell_type": "markdown",
   "metadata": {},
   "source": [
    "## (a)  15 pts\n",
    "\n",
    "Write a function called **my_mean** that takes a list of numbers as input and return their mean (Do not import any module). Test it with \n",
    "`L1-L4`."
   ]
  },
  {
   "cell_type": "code",
   "execution_count": null,
   "metadata": {},
   "outputs": [],
   "source": []
  },
  {
   "cell_type": "markdown",
   "metadata": {},
   "source": [
    "## (b)  20 pts\n",
    "\n",
    "Write a function called **my_median** that takes a list of numbers as input and return their median (Do not import any module). Test it with `L1-L4`."
   ]
  },
  {
   "cell_type": "code",
   "execution_count": null,
   "metadata": {},
   "outputs": [],
   "source": []
  },
  {
   "cell_type": "markdown",
   "metadata": {},
   "source": [
    "## (c)  20 pts\n",
    "\n",
    "Write a function called **my_mode** that takes a list of numbers as\n",
    "input and return their mode. In the case of multiple modes, return the smallest\n",
    "among them (Do not import any module). Test it with `L1-L4`."
   ]
  },
  {
   "cell_type": "code",
   "execution_count": null,
   "metadata": {},
   "outputs": [],
   "source": []
  },
  {
   "cell_type": "markdown",
   "metadata": {},
   "source": [
    "## (d)  15 pts\n",
    "\n",
    "Use the functions in the previous part, write a function called\n",
    "**my_stat** that takes a list of numbers as input and return a dictionary with\n",
    "key:value pairs corresponding to the mean, median, mode of the\n",
    "input list (Do not import any module). Test it with `L1-L4`."
   ]
  },
  {
   "cell_type": "code",
   "execution_count": null,
   "metadata": {},
   "outputs": [],
   "source": []
  }
 ],
 "metadata": {
  "kernelspec": {
   "display_name": "Python 3 (ipykernel)",
   "language": "python",
   "name": "python3"
  },
  "language_info": {
   "codemirror_mode": {
    "name": "ipython",
    "version": 3
   },
   "file_extension": ".py",
   "mimetype": "text/x-python",
   "name": "python",
   "nbconvert_exporter": "python",
   "pygments_lexer": "ipython3",
   "version": "3.12.8"
  }
 },
 "nbformat": 4,
 "nbformat_minor": 4
}
