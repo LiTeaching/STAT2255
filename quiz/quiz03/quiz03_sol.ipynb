{
 "cells": [
  {
   "cell_type": "markdown",
   "metadata": {},
   "source": [
    "STAT 2255: Quiz 03\n",
    "======================\n",
    "\n"
   ]
  },
  {
   "cell_type": "markdown",
   "metadata": {},
   "source": [
    "### Submission requirement (5 pts):\n",
    "\n"
   ]
  },
  {
   "cell_type": "markdown",
   "metadata": {},
   "source": [
    "1.  Solve the exam problems using the \"stat2255\" virtual environment.\n",
    "2.  You should submit both the jupyter notebook file and the pdf file.\n",
    "3.  Name your files as \"LastName-FirstName.ipynb\" and \"LastName-FirstName.pdf\",\n",
    "    e.g.,\n",
    "    -   \"Wang-Ben.ipynb\"\n",
    "    -   \"Wang-Ben.pdf\"\n",
    "\n"
   ]
  },
  {
   "cell_type": "markdown",
   "metadata": {},
   "source": [
    "## Problem 1 (95 pts)"
   ]
  },
  {
   "cell_type": "markdown",
   "metadata": {},
   "source": [
    "### Part 1 \n",
    "\n"
   ]
  },
  {
   "cell_type": "markdown",
   "metadata": {},
   "source": [
    "Suppose you would like to simulate the experiment of flipping a coin\n",
    "that gives head with probability $p$ and tail with probability\n",
    "$1-p$. Write a function that simulate this coin flipping experiment. Set\n",
    " `np.random.seed(2255)` , specify a value of $p$, say $0.3$, and run your function.\n",
    "\n",
    "**Note**: Your function shoud take $p$ as input and return either \"head\"\n",
    "or \"tail\".\n",
    "\n"
   ]
  },
  {
   "cell_type": "code",
   "execution_count": 1,
   "metadata": {},
   "outputs": [
    {
     "data": {
      "text/plain": [
       "'tail'"
      ]
     },
     "execution_count": 1,
     "metadata": {},
     "output_type": "execute_result"
    }
   ],
   "source": [
    "import numpy as np\n",
    "def random_coin(p):\n",
    "    U = np.random.uniform()\n",
    "    if U < p:\n",
    "        return \"head\"\n",
    "    else:\n",
    "        return \"tail\"\n",
    "\n",
    "np.random.seed(2255)\n",
    "random_coin(0.3)"
   ]
  },
  {
   "cell_type": "markdown",
   "metadata": {},
   "source": [
    "### Part 2 \n",
    "\n"
   ]
  },
  {
   "cell_type": "markdown",
   "metadata": {},
   "source": [
    "Specify a value of $p$, say $0.3$, create a list that contains 1000\n",
    "flips of such coin. Set `np.random.seed(2255)` before creating the list. Use the list, create a barplot for \"head\" and\n",
    "\"tail\".\n",
    "\n"
   ]
  },
  {
   "cell_type": "code",
   "execution_count": 2,
   "metadata": {},
   "outputs": [
    {
     "data": {
      "text/plain": [
       "<Axes: >"
      ]
     },
     "execution_count": 2,
     "metadata": {},
     "output_type": "execute_result"
    },
    {
     "data": {
      "image/png": "[encoded data removed]",
      "text/plain": [
       "<Figure size 640x480 with 1 Axes>"
      ]
     },
     "metadata": {},
     "output_type": "display_data"
    }
   ],
   "source": [
    "import pandas as pd\n",
    "np.random.seed(2255)\n",
    "coins = [random_coin(0.3) for i in range(1000)]\n",
    "pd.Series(coins).value_counts().plot.bar(rot = 0)"
   ]
  }
 ],
 "metadata": {
  "kernelspec": {
   "display_name": "Python 3 (ipykernel)",
   "language": "python",
   "name": "python3"
  },
  "language_info": {
   "codemirror_mode": {
    "name": "ipython",
    "version": 3
   },
   "file_extension": ".py",
   "mimetype": "text/x-python",
   "name": "python",
   "nbconvert_exporter": "python",
   "pygments_lexer": "ipython3",
   "version": "3.12.8"
  },
  "org": null
 },
 "nbformat": 4,
 "nbformat_minor": 4
}
