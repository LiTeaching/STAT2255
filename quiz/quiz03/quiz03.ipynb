{
 "cells": [
  {
   "cell_type": "markdown",
   "metadata": {},
   "source": [
    "STAT 2255: Quiz 03\n",
    "======================\n",
    "\n"
   ]
  },
  {
   "cell_type": "markdown",
   "metadata": {},
   "source": [
    "### Submission requirement (5 pts):\n",
    "\n"
   ]
  },
  {
   "cell_type": "markdown",
   "metadata": {},
   "source": [
    "1.  Solve the exam problems using the \"stat2255\" virtual environment.\n",
    "2.  You should submit both the jupyter notebook file and the pdf file.\n",
    "3.  Name your files as \"LastName-FirstName.ipynb\" and \"LastName-FirstName.pdf\",\n",
    "    e.g.,\n",
    "    -   \"Wang-Ben.ipynb\"\n",
    "    -   \"Wang-Ben.pdf\"\n",
    "\n"
   ]
  },
  {
   "cell_type": "markdown",
   "metadata": {},
   "source": [
    "## Problem 1 (95 pts)"
   ]
  },
  {
   "cell_type": "markdown",
   "metadata": {},
   "source": [
    "### Part 1 \n",
    "\n"
   ]
  },
  {
   "cell_type": "markdown",
   "metadata": {},
   "source": [
    "Suppose you would like to simulate the experiment of flipping a coin\n",
    "that gives head with probability $p$ and tail with probability\n",
    "$1-p$. Write a function that simulate this coin flipping experiment. Set\n",
    " `np.random.seed(2255)` , specify a value of $p$, say $0.3$, and run your function.\n",
    "\n",
    "**Note**: Your function shoud take $p$ as input and return either \"head\"\n",
    "or \"tail\".\n",
    "\n"
   ]
  },
  {
   "cell_type": "markdown",
   "metadata": {},
   "source": [
    "### Part 2 \n",
    "\n"
   ]
  },
  {
   "cell_type": "markdown",
   "metadata": {},
   "source": [
    "Specify a value of $p$, say $0.3$, create a list that contains 1000\n",
    "flips of such coin. Set `np.random.seed(2255)` before creating the list. Use the list, create a barplot for \"head\" and\n",
    "\"tail\".\n",
    "\n"
   ]
  }
 ],
 "metadata": {
  "kernelspec": {
   "display_name": "Python 3 (ipykernel)",
   "language": "python",
   "name": "python3"
  },
  "language_info": {
   "codemirror_mode": {
    "name": "ipython",
    "version": 3
   },
   "file_extension": ".py",
   "mimetype": "text/x-python",
   "name": "python",
   "nbconvert_exporter": "python",
   "pygments_lexer": "ipython3",
   "version": "3.12.8"
  },
  "org": null
 },
 "nbformat": 4,
 "nbformat_minor": 4
}
